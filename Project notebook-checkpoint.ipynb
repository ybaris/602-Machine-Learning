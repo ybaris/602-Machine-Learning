{
 "cells": [
  {
   "cell_type": "code",
   "execution_count": 5,
   "metadata": {},
   "outputs": [
    {
     "name": "stdout",
     "output_type": "stream",
     "text": [
      "Collecting yahoo_oauth\n",
      "  Downloading yahoo_oauth-1.1.tar.gz (7.2 kB)\n",
      "Collecting pyaml\n",
      "  Downloading pyaml-20.4.0-py2.py3-none-any.whl (17 kB)\n",
      "Collecting rauth\n",
      "  Downloading rauth-0.7.3.tar.gz (16 kB)\n",
      "Requirement already satisfied: PyYAML in c:\\users\\baris\\anaconda3\\lib\\site-packages (from pyaml->yahoo_oauth) (5.3.1)\n",
      "Requirement already satisfied: requests>=1.2.3 in c:\\users\\baris\\anaconda3\\lib\\site-packages (from rauth->yahoo_oauth) (2.24.0)\n",
      "Requirement already satisfied: certifi>=2017.4.17 in c:\\users\\baris\\anaconda3\\lib\\site-packages (from requests>=1.2.3->rauth->yahoo_oauth) (2020.6.20)\n",
      "Requirement already satisfied: chardet<4,>=3.0.2 in c:\\users\\baris\\anaconda3\\lib\\site-packages (from requests>=1.2.3->rauth->yahoo_oauth) (3.0.4)\n",
      "Requirement already satisfied: idna<3,>=2.5 in c:\\users\\baris\\anaconda3\\lib\\site-packages (from requests>=1.2.3->rauth->yahoo_oauth) (2.10)\n",
      "Requirement already satisfied: urllib3!=1.25.0,!=1.25.1,<1.26,>=1.21.1 in c:\\users\\baris\\anaconda3\\lib\\site-packages (from requests>=1.2.3->rauth->yahoo_oauth) (1.25.9)\n",
      "Building wheels for collected packages: yahoo-oauth, rauth\n",
      "  Building wheel for yahoo-oauth (setup.py): started\n",
      "  Building wheel for yahoo-oauth (setup.py): finished with status 'done'\n",
      "  Created wheel for yahoo-oauth: filename=yahoo_oauth-1.1-py3-none-any.whl size=7277 sha256=523acae31980ce3d430ceadd0643db415cc7bdeef04459c5094b5679f406cce2\n",
      "  Stored in directory: c:\\users\\baris\\appdata\\local\\pip\\cache\\wheels\\4b\\68\\05\\8bbd544da6027ed952c191521f3e95ab22c72cc515e90ea458\n",
      "  Building wheel for rauth (setup.py): started\n",
      "  Building wheel for rauth (setup.py): finished with status 'done'\n",
      "  Created wheel for rauth: filename=rauth-0.7.3-py3-none-any.whl size=16062 sha256=02a99987d14b5665080458e64a282bc9c5a76cd2677c6ad23db0fd3cbaafa3de\n",
      "  Stored in directory: c:\\users\\baris\\appdata\\local\\pip\\cache\\wheels\\12\\ba\\46\\fba7d3f89b3f871b076908875f0b61fa6fba64af01c7b53036\n",
      "Successfully built yahoo-oauth rauth\n",
      "Installing collected packages: pyaml, rauth, yahoo-oauth\n",
      "Successfully installed pyaml-20.4.0 rauth-0.7.3 yahoo-oauth-1.1\n"
     ]
    }
   ],
   "source": [
    "!pip install yahoo_oauth\n",
    "import yahoo_oauth"
   ]
  },
  {
   "cell_type": "code",
   "execution_count": 7,
   "metadata": {},
   "outputs": [
    {
     "name": "stderr",
     "output_type": "stream",
     "text": [
      "C:\\Users\\baris\\anaconda3\\lib\\site-packages\\setuptools\\distutils_patch.py:25: UserWarning: Distutils was imported before Setuptools. This usage is discouraged and may exhibit undesirable behaviors or errors. Please use Setuptools' objects directly or at least import Setuptools first.\n",
      "  warnings.warn(\n"
     ]
    },
    {
     "ename": "FileNotFoundError",
     "evalue": "[Errno 2] No such file or directory: 'requirements.txt'",
     "output_type": "error",
     "traceback": [
      "\u001b[1;31m---------------------------------------------------------------------------\u001b[0m",
      "\u001b[1;31mFileNotFoundError\u001b[0m                         Traceback (most recent call last)",
      "\u001b[1;32m<ipython-input-7-a6b169f87645>\u001b[0m in \u001b[0;36m<module>\u001b[1;34m\u001b[0m\n\u001b[0;32m      1\u001b[0m \u001b[1;32mfrom\u001b[0m \u001b[0msetuptools\u001b[0m \u001b[1;32mimport\u001b[0m \u001b[0msetup\u001b[0m\u001b[1;33m,\u001b[0m \u001b[0mfind_packages\u001b[0m\u001b[1;33m\u001b[0m\u001b[1;33m\u001b[0m\u001b[0m\n\u001b[0;32m      2\u001b[0m \u001b[1;33m\u001b[0m\u001b[0m\n\u001b[1;32m----> 3\u001b[1;33m \u001b[1;32mwith\u001b[0m \u001b[0mopen\u001b[0m\u001b[1;33m(\u001b[0m\u001b[1;34m'requirements.txt'\u001b[0m\u001b[1;33m)\u001b[0m \u001b[1;32mas\u001b[0m \u001b[0mf\u001b[0m\u001b[1;33m:\u001b[0m\u001b[1;33m\u001b[0m\u001b[1;33m\u001b[0m\u001b[0m\n\u001b[0m\u001b[0;32m      4\u001b[0m     \u001b[0mrequirements\u001b[0m \u001b[1;33m=\u001b[0m \u001b[0mf\u001b[0m\u001b[1;33m.\u001b[0m\u001b[0mread\u001b[0m\u001b[1;33m(\u001b[0m\u001b[1;33m)\u001b[0m\u001b[1;33m.\u001b[0m\u001b[0msplitlines\u001b[0m\u001b[1;33m(\u001b[0m\u001b[1;33m)\u001b[0m\u001b[1;33m\u001b[0m\u001b[1;33m\u001b[0m\u001b[0m\n\u001b[0;32m      5\u001b[0m \u001b[1;33m\u001b[0m\u001b[0m\n",
      "\u001b[1;31mFileNotFoundError\u001b[0m: [Errno 2] No such file or directory: 'requirements.txt'"
     ]
    }
   ],
   "source": [
    "from setuptools import setup, find_packages\n",
    "\n",
    "with open('requirements.txt') as f:\n",
    "    requirements = f.read().splitlines()\n",
    "\n",
    "setup(\n",
    "    name=\"yahoo_fantasy_basketball_analyzer\",\n",
    "    version=\"0.1.2\",\n",
    "    install_requires=requirements,\n",
    "    author=\"Chun-Tse Shao, Frank Shih\",\n",
    "    author_email=\"elwan9880@gmail.com\",\n",
    "    packages=[\"yahoo_fantasy_basketball_analyzer\"],\n",
    "    python_requires=\">=3.7\"\n",
    ")"
   ]
  },
  {
   "cell_type": "code",
   "execution_count": 6,
   "metadata": {},
   "outputs": [
    {
     "ename": "NameError",
     "evalue": "name 'args' is not defined",
     "output_type": "error",
     "traceback": [
      "\u001b[1;31m---------------------------------------------------------------------------\u001b[0m",
      "\u001b[1;31mNameError\u001b[0m                                 Traceback (most recent call last)",
      "\u001b[1;32m<ipython-input-6-93611956df63>\u001b[0m in \u001b[0;36m<module>\u001b[1;34m\u001b[0m\n\u001b[0;32m      3\u001b[0m \u001b[1;33m\u001b[0m\u001b[0m\n\u001b[0;32m      4\u001b[0m \u001b[0mcreds\u001b[0m \u001b[1;33m=\u001b[0m \u001b[1;33m{\u001b[0m\u001b[1;34m'consumer_key'\u001b[0m\u001b[1;33m:\u001b[0m \u001b[1;34m'my_key'\u001b[0m\u001b[1;33m,\u001b[0m \u001b[1;34m'consumer_secret'\u001b[0m\u001b[1;33m:\u001b[0m \u001b[1;34m'my_secret'\u001b[0m\u001b[1;33m}\u001b[0m\u001b[1;33m\u001b[0m\u001b[1;33m\u001b[0m\u001b[0m\n\u001b[1;32m----> 5\u001b[1;33m \u001b[1;32mwith\u001b[0m \u001b[0mopen\u001b[0m\u001b[1;33m(\u001b[0m\u001b[0margs\u001b[0m\u001b[1;33m[\u001b[0m\u001b[1;34m'<json>'\u001b[0m\u001b[1;33m]\u001b[0m\u001b[1;33m,\u001b[0m \u001b[1;34m\"w\"\u001b[0m\u001b[1;33m)\u001b[0m \u001b[1;32mas\u001b[0m \u001b[0mf\u001b[0m\u001b[1;33m:\u001b[0m\u001b[1;33m\u001b[0m\u001b[1;33m\u001b[0m\u001b[0m\n\u001b[0m\u001b[0;32m      6\u001b[0m    \u001b[0mf\u001b[0m\u001b[1;33m.\u001b[0m\u001b[0mwrite\u001b[0m\u001b[1;33m(\u001b[0m\u001b[0mjson\u001b[0m\u001b[1;33m.\u001b[0m\u001b[0mdumps\u001b[0m\u001b[1;33m(\u001b[0m\u001b[0mcreds\u001b[0m\u001b[1;33m)\u001b[0m\u001b[1;33m)\u001b[0m\u001b[1;33m\u001b[0m\u001b[1;33m\u001b[0m\u001b[0m\n\u001b[0;32m      7\u001b[0m \u001b[0moauth\u001b[0m \u001b[1;33m=\u001b[0m \u001b[0mOAuth2\u001b[0m\u001b[1;33m(\u001b[0m\u001b[1;32mNone\u001b[0m\u001b[1;33m,\u001b[0m \u001b[1;32mNone\u001b[0m\u001b[1;33m,\u001b[0m \u001b[0mfrom_file\u001b[0m\u001b[1;33m=\u001b[0m\u001b[1;34m'oauth2.json'\u001b[0m\u001b[1;33m)\u001b[0m\u001b[1;33m\u001b[0m\u001b[1;33m\u001b[0m\u001b[0m\n",
      "\u001b[1;31mNameError\u001b[0m: name 'args' is not defined"
     ]
    }
   ],
   "source": [
    "from yahoo_oauth import OAuth2\n",
    "import json\n",
    "\n",
    "creds = {'consumer_key': 'my_key', 'consumer_secret': 'my_secret'}\n",
    "with open(args['<json>'], \"w\") as f:\n",
    "   f.write(json.dumps(creds))\n",
    "oauth = OAuth2(None, None, from_file='oauth2.json')"
   ]
  },
  {
   "cell_type": "code",
   "execution_count": null,
   "metadata": {},
   "outputs": [],
   "source": []
  }
 ],
 "metadata": {
  "kernelspec": {
   "display_name": "Python 3",
   "language": "python",
   "name": "python3"
  },
  "language_info": {
   "codemirror_mode": {
    "name": "ipython",
    "version": 3
   },
   "file_extension": ".py",
   "mimetype": "text/x-python",
   "name": "python",
   "nbconvert_exporter": "python",
   "pygments_lexer": "ipython3",
   "version": "3.8.3"
  }
 },
 "nbformat": 4,
 "nbformat_minor": 4
}
