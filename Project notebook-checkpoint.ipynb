{
 "cells": [
  {
   "cell_type": "code",
   "execution_count": 5,
   "metadata": {},
   "outputs": [
    {
     "name": "stdout",
     "output_type": "stream",
     "text": [
      "Collecting yahoo_oauth\n",
      "  Downloading yahoo_oauth-1.1.tar.gz (7.2 kB)\n",
      "Collecting pyaml\n",
      "  Downloading pyaml-20.4.0-py2.py3-none-any.whl (17 kB)\n",
      "Collecting rauth\n",
      "  Downloading rauth-0.7.3.tar.gz (16 kB)\n",
      "Requirement already satisfied: PyYAML in c:\\users\\baris\\anaconda3\\lib\\site-packages (from pyaml->yahoo_oauth) (5.3.1)\n",
      "Requirement already satisfied: requests>=1.2.3 in c:\\users\\baris\\anaconda3\\lib\\site-packages (from rauth->yahoo_oauth) (2.24.0)\n",
      "Requirement already satisfied: certifi>=2017.4.17 in c:\\users\\baris\\anaconda3\\lib\\site-packages (from requests>=1.2.3->rauth->yahoo_oauth) (2020.6.20)\n",
      "Requirement already satisfied: chardet<4,>=3.0.2 in c:\\users\\baris\\anaconda3\\lib\\site-packages (from requests>=1.2.3->rauth->yahoo_oauth) (3.0.4)\n",
      "Requirement already satisfied: idna<3,>=2.5 in c:\\users\\baris\\anaconda3\\lib\\site-packages (from requests>=1.2.3->rauth->yahoo_oauth) (2.10)\n",
      "Requirement already satisfied: urllib3!=1.25.0,!=1.25.1,<1.26,>=1.21.1 in c:\\users\\baris\\anaconda3\\lib\\site-packages (from requests>=1.2.3->rauth->yahoo_oauth) (1.25.9)\n",
      "Building wheels for collected packages: yahoo-oauth, rauth\n",
      "  Building wheel for yahoo-oauth (setup.py): started\n",
      "  Building wheel for yahoo-oauth (setup.py): finished with status 'done'\n",
      "  Created wheel for yahoo-oauth: filename=yahoo_oauth-1.1-py3-none-any.whl size=7277 sha256=523acae31980ce3d430ceadd0643db415cc7bdeef04459c5094b5679f406cce2\n",
      "  Stored in directory: c:\\users\\baris\\appdata\\local\\pip\\cache\\wheels\\4b\\68\\05\\8bbd544da6027ed952c191521f3e95ab22c72cc515e90ea458\n",
      "  Building wheel for rauth (setup.py): started\n",
      "  Building wheel for rauth (setup.py): finished with status 'done'\n",
      "  Created wheel for rauth: filename=rauth-0.7.3-py3-none-any.whl size=16062 sha256=02a99987d14b5665080458e64a282bc9c5a76cd2677c6ad23db0fd3cbaafa3de\n",
      "  Stored in directory: c:\\users\\baris\\appdata\\local\\pip\\cache\\wheels\\12\\ba\\46\\fba7d3f89b3f871b076908875f0b61fa6fba64af01c7b53036\n",
      "Successfully built yahoo-oauth rauth\n",
      "Installing collected packages: pyaml, rauth, yahoo-oauth\n",
      "Successfully installed pyaml-20.4.0 rauth-0.7.3 yahoo-oauth-1.1\n"
     ]
    }
   ],
   "source": [
    "!pip install yahoo_oauth\n",
    "import yahoo_oauth"
   ]
  },
  {
   "cell_type": "code",
   "execution_count": 11,
   "metadata": {},
   "outputs": [
    {
     "name": "stderr",
     "output_type": "stream",
     "text": [
      "usage: ipykernel_launcher.py [-h]\n",
      "ipykernel_launcher.py: error: unrecognized arguments: -f C:\\Users\\baris\\AppData\\Roaming\\jupyter\\runtime\\kernel-82acc597-e5cb-49f3-8a11-9b55848ec640.json\n"
     ]
    },
    {
     "ename": "SystemExit",
     "evalue": "2",
     "output_type": "error",
     "traceback": [
      "An exception has occurred, use %tb to see the full traceback.\n",
      "\u001b[1;31mSystemExit\u001b[0m\u001b[1;31m:\u001b[0m 2\n"
     ]
    },
    {
     "name": "stderr",
     "output_type": "stream",
     "text": [
      "C:\\Users\\baris\\anaconda3\\lib\\site-packages\\IPython\\core\\interactiveshell.py:3351: UserWarning: To exit: use 'exit', 'quit', or Ctrl-D.\n",
      "  warn(\"To exit: use 'exit', 'quit', or Ctrl-D.\", stacklevel=1)\n"
     ]
    }
   ],
   "source": [
    "from yahoo_oauth import OAuth2\n",
    "import json\n",
    "import numpy as np\n",
    "import argparse\n",
    "\n",
    "\n",
    "ap = argparse.ArgumentParser()\n",
    "\n",
    "creds = {'consumer_key': 'dj0yJmk9Z1E2RXVJMjA2aEE2JmQ9WVdrOVFuUkdjakZ2TmpnbWNHbzlNQT09JnM9Y29uc3VtZXJzZWNyZXQmc3Y9MCZ4PWI4', 'consumer_secret': '68d67d39c14cd827a4ef60ff2ffd4ed830afc512'}\n",
    "args = ap.parse_args()\n",
    "with open(args['<json>'], \"w\") as f:\n",
    "   f.write(json.dumps(creds))\n",
    "oauth = OAuth2(None, None, from_file='oauth2.json')"
   ]
  },
  {
   "cell_type": "code",
   "execution_count": 6,
   "metadata": {},
   "outputs": [
    {
     "name": "stderr",
     "output_type": "stream",
     "text": [
      "ERROR: Could not find a version that satisfies the requirement yahoo_fantasy_basketball_analyzer (from versions: none)\n",
      "ERROR: No matching distribution found for yahoo_fantasy_basketball_analyzer\n"
     ]
    },
    {
     "ename": "ModuleNotFoundError",
     "evalue": "No module named 'yahoo_fantasy_basketball_analyzer'",
     "output_type": "error",
     "traceback": [
      "\u001b[1;31m---------------------------------------------------------------------------\u001b[0m",
      "\u001b[1;31mModuleNotFoundError\u001b[0m                       Traceback (most recent call last)",
      "\u001b[1;32m<ipython-input-6-3c06526c068a>\u001b[0m in \u001b[0;36m<module>\u001b[1;34m\u001b[0m\n\u001b[0;32m      1\u001b[0m \u001b[0mget_ipython\u001b[0m\u001b[1;33m(\u001b[0m\u001b[1;33m)\u001b[0m\u001b[1;33m.\u001b[0m\u001b[0msystem\u001b[0m\u001b[1;33m(\u001b[0m\u001b[1;34m'pip install yahoo_fantasy_basketball_analyzer'\u001b[0m\u001b[1;33m)\u001b[0m\u001b[1;33m\u001b[0m\u001b[1;33m\u001b[0m\u001b[0m\n\u001b[1;32m----> 2\u001b[1;33m \u001b[1;32mimport\u001b[0m \u001b[0myahoo_fantasy_basketball_analyzer\u001b[0m\u001b[1;33m\u001b[0m\u001b[1;33m\u001b[0m\u001b[0m\n\u001b[0m",
      "\u001b[1;31mModuleNotFoundError\u001b[0m: No module named 'yahoo_fantasy_basketball_analyzer'"
     ]
    }
   ],
   "source": [
    "!pip install yahoo_fantasy_basketball_analyzer\n",
    "import yahoo_fantasy_basketball_analyzer"
   ]
  },
  {
   "cell_type": "markdown",
   "metadata": {},
   "source": [
    "#### python yahoo_fantasy_basketball_analyzer.py"
   ]
  },
  {
   "cell_type": "code",
   "execution_count": 12,
   "metadata": {},
   "outputs": [
    {
     "ename": "FileNotFoundError",
     "evalue": "[Errno 2] No such file or directory: '2018/player/Álex Abrines.csv'",
     "output_type": "error",
     "traceback": [
      "\u001b[1;31m---------------------------------------------------------------------------\u001b[0m",
      "\u001b[1;31mFileNotFoundError\u001b[0m                         Traceback (most recent call last)",
      "\u001b[1;32m<ipython-input-12-b7fd89134e2e>\u001b[0m in \u001b[0;36m<module>\u001b[1;34m\u001b[0m\n\u001b[0;32m     57\u001b[0m                      [td.get_text() for td in advanced_rows[i].find_all([\"th\", \"td\"]) if td[\"data-stat\"] not in duplicated_data_stats])\n\u001b[0;32m     58\u001b[0m \u001b[1;33m\u001b[0m\u001b[0m\n\u001b[1;32m---> 59\u001b[1;33m   \u001b[1;32mwith\u001b[0m \u001b[0mopen\u001b[0m\u001b[1;33m(\u001b[0m\u001b[1;34m\"{}/player/{}.csv\"\u001b[0m\u001b[1;33m.\u001b[0m\u001b[0mformat\u001b[0m\u001b[1;33m(\u001b[0m\u001b[0myear\u001b[0m\u001b[1;33m,\u001b[0m \u001b[0mplayer_name\u001b[0m\u001b[1;33m)\u001b[0m\u001b[1;33m,\u001b[0m \u001b[1;34m\"w\"\u001b[0m\u001b[1;33m,\u001b[0m \u001b[0mnewline\u001b[0m \u001b[1;33m=\u001b[0m \u001b[1;34m\"\"\u001b[0m\u001b[1;33m)\u001b[0m \u001b[1;32mas\u001b[0m \u001b[0mf\u001b[0m\u001b[1;33m:\u001b[0m\u001b[1;33m\u001b[0m\u001b[1;33m\u001b[0m\u001b[0m\n\u001b[0m\u001b[0;32m     60\u001b[0m     \u001b[0mwr\u001b[0m \u001b[1;33m=\u001b[0m \u001b[0mcsv\u001b[0m\u001b[1;33m.\u001b[0m\u001b[0mwriter\u001b[0m\u001b[1;33m(\u001b[0m\u001b[0mf\u001b[0m\u001b[1;33m,\u001b[0m \u001b[0mquoting\u001b[0m\u001b[1;33m=\u001b[0m\u001b[0mcsv\u001b[0m\u001b[1;33m.\u001b[0m\u001b[0mQUOTE_ALL\u001b[0m\u001b[1;33m)\u001b[0m\u001b[1;33m\u001b[0m\u001b[1;33m\u001b[0m\u001b[0m\n\u001b[0;32m     61\u001b[0m     \u001b[0mwr\u001b[0m\u001b[1;33m.\u001b[0m\u001b[0mwriterow\u001b[0m\u001b[1;33m(\u001b[0m\u001b[0mheader\u001b[0m\u001b[1;33m)\u001b[0m\u001b[1;33m\u001b[0m\u001b[1;33m\u001b[0m\u001b[0m\n",
      "\u001b[1;31mFileNotFoundError\u001b[0m: [Errno 2] No such file or directory: '2018/player/Álex Abrines.csv'"
     ]
    }
   ],
   "source": [
    "from urllib.request import urlopen\n",
    "import json\n",
    "from bs4 import BeautifulSoup\n",
    "import csv\n",
    "\n",
    "year = 2018\n",
    "br_url = \"https://www.basketball-reference.com/\"\n",
    "duplicated_data_stats = {\"ranker\", \"game_season\", \"date_game\", \"age\", \"team_id\", \"game_result\", \"game_location\", \"opp_id\", \"gs\", \"mp\", \"game_score\"}\n",
    "\n",
    "url = \"{}leagues/NBA_{}_totals.html\".format(br_url, year + 1)\n",
    "html = urlopen(url)\n",
    "soup = BeautifulSoup(html, \"lxml\")\n",
    "headers = [th.get_text() for th in soup.find_all('tr', limit=2)[0].find_all('th')]\n",
    "headers = headers[1:]\n",
    "rows = soup.find_all('tr')[1:]\n",
    "\n",
    "player_id_list = []\n",
    "\n",
    "for i in range(len(rows)):\n",
    "  data = rows[i].find_all(\"td\")\n",
    "  if not data:\n",
    "    continue\n",
    "  player_id = data[0][\"data-append-csv\"]\n",
    "  if [player_id] == player_id_list[-1:]:\n",
    "    continue\n",
    "\n",
    "  player_id_list.append(player_id)\n",
    "  player_name = data[0].get_text()\n",
    "\n",
    "  basic_url = \"{}players/{}/{}/gamelog/{}\".format(br_url, player_id[0], player_id, year + 1)\n",
    "  advanced_url = \"{}players/{}/{}/gamelog-advanced/{}\".format(br_url, player_id[0], player_id, year + 1)\n",
    "\n",
    "  basic_soup = BeautifulSoup(urlopen(basic_url), \"lxml\")\n",
    "  advanced_soup = BeautifulSoup(urlopen(advanced_url), \"lxml\")\n",
    "\n",
    "  basic_table = basic_soup.find_all(\"table\", {\"id\": \"pgl_basic\"})[0]\n",
    "  advanced_table = advanced_soup.find_all(\"table\", {\"id\": \"pgl_advanced\"})[0]\n",
    "\n",
    "  basic_thead = basic_table.find_all(\"thead\")[0]\n",
    "  advanced_thead = advanced_table.find_all(\"thead\")[0]\n",
    "  basic_header = [th.get_text() for th in basic_thead.find_all(\"th\")]\n",
    "  advanced_header = [th.get_text() for th in advanced_thead.find_all(\"th\") if th[\"data-stat\"] not in duplicated_data_stats]\n",
    "  header = basic_header + advanced_header\n",
    "\n",
    "  basic_tbody = basic_table.find_all(\"tbody\")[0]\n",
    "  basic_rows = basic_tbody.find_all(\"tr\")\n",
    "  advanced_tbody = advanced_table.find_all(\"tbody\")[0]\n",
    "  advanced_rows = advanced_tbody.find_all(\"tr\")\n",
    "  if len(advanced_rows) != len(basic_rows):\n",
    "    print(\"WARNING: {} has different number of rows for advanced ({}) and basic ({}) stats\".format(len(advanced_rows, len(basic_rows))))\n",
    "    continue\n",
    "\n",
    "  gamelog = []\n",
    "  for i in range(len(basic_rows)):\n",
    "    if basic_rows[i].get(\"id\") and advanced_rows[i].get(\"id\"):\n",
    "      gamelog.append([td.get_text() for td in basic_rows[i].find_all([\"th\", \"td\"])] +\n",
    "                     [td.get_text() for td in advanced_rows[i].find_all([\"th\", \"td\"]) if td[\"data-stat\"] not in duplicated_data_stats])\n",
    "\n",
    "  with open(\"{}/player/{}.csv\".format(year, player_name), \"w\", newline = \"\") as f:\n",
    "    wr = csv.writer(f, quoting=csv.QUOTE_ALL)\n",
    "    wr.writerow(header)\n",
    "    for item in gamelog:\n",
    "      wr.writerow(item)\n",
    "\n",
    "  f.close()"
   ]
  }
 ],
 "metadata": {
  "kernelspec": {
   "display_name": "Python 3",
   "language": "python",
   "name": "python3"
  }
 },
 "nbformat": 4,
 "nbformat_minor": 4
}
