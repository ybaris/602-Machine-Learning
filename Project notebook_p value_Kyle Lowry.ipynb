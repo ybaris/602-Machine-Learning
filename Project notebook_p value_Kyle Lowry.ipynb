{
 "cells": [
  {
   "cell_type": "code",
   "execution_count": 548,
   "metadata": {},
   "outputs": [],
   "source": [
    "# 1 - Import necessary libraries\n",
    "import pandas as pd\n",
    "import os\n",
    "import random as rd\n",
    "import statsmodels as sm\n",
    "import numpy as np\n",
    "import matplotlib.pyplot as plt"
   ]
  },
  {
   "cell_type": "code",
   "execution_count": 549,
   "metadata": {},
   "outputs": [
    {
     "name": "stdout",
     "output_type": "stream",
     "text": [
      "nt\n"
     ]
    },
    {
     "data": {
      "text/plain": [
       "'C:\\\\Users\\\\baris\\\\Desktop\\\\DATA 602\\\\Project\\\\Yahoo_fantasy_basketball_analyzer-master\\\\Yahoo_fantasy_basketball_analyzer-master\\\\yahoo_fantasy_basketball_analyzer\\\\machine_learning\\\\data\\\\2018\\\\player'"
      ]
     },
     "execution_count": 549,
     "metadata": {},
     "output_type": "execute_result"
    }
   ],
   "source": [
    "print(os.name)\n",
    "os.getcwd()"
   ]
  },
  {
   "cell_type": "code",
   "execution_count": 550,
   "metadata": {},
   "outputs": [
    {
     "data": {
      "text/plain": [
       "530"
      ]
     },
     "execution_count": 550,
     "metadata": {},
     "output_type": "execute_result"
    }
   ],
   "source": [
    "files = os.listdir('C:/Users/baris/Desktop/DATA 602/Project/Yahoo_fantasy_basketball_analyzer-master/Yahoo_fantasy_basketball_analyzer-master/yahoo_fantasy_basketball_analyzer/machine_learning/data/2018/player')\n",
    "file_list = []\n",
    "for element in files:\n",
    "    if element.endswith(\".csv\"):\n",
    "        file_list.append(element) \n",
    "\n",
    "len(file_list)"
   ]
  },
  {
   "cell_type": "code",
   "execution_count": 551,
   "metadata": {},
   "outputs": [
    {
     "data": {
      "text/plain": [
       "'Kyle Lowry.csv'"
      ]
     },
     "execution_count": 551,
     "metadata": {},
     "output_type": "execute_result"
    }
   ],
   "source": [
    "# choose a random player to analyze\n",
    "x = rd.randint(0,530)\n",
    "file_list[x]\n"
   ]
  },
  {
   "cell_type": "code",
   "execution_count": 552,
   "metadata": {},
   "outputs": [
    {
     "name": "stdout",
     "output_type": "stream",
     "text": [
      "<class 'pandas.core.frame.DataFrame'>\n",
      "RangeIndex: 65 entries, 0 to 64\n",
      "Data columns (total 9 columns):\n",
      " #   Column  Non-Null Count  Dtype  \n",
      "---  ------  --------------  -----  \n",
      " 0   MP      65 non-null     object \n",
      " 1   FG%     65 non-null     float64\n",
      " 2   FT%     53 non-null     float64\n",
      " 3   TRB     65 non-null     int64  \n",
      " 4   AST     65 non-null     int64  \n",
      " 5   STL     65 non-null     int64  \n",
      " 6   BLK     65 non-null     int64  \n",
      " 7   TOV     65 non-null     int64  \n",
      " 8   PTS     65 non-null     int64  \n",
      "dtypes: float64(2), int64(6), object(1)\n",
      "memory usage: 4.7+ KB\n"
     ]
    }
   ],
   "source": [
    "path = \"C:/Users/baris/Desktop/DATA 602/Project/Yahoo_fantasy_basketball_analyzer-master/Yahoo_fantasy_basketball_analyzer-master/yahoo_fantasy_basketball_analyzer/machine_learning/data/2018/player\"\n",
    "df = pd.read_csv(path+\"/\"+str(file_list[x]), usecols=[\"MP\", \"FG%\", \"PTS\", \"FT%\", \"TRB\", \"AST\", \"STL\", \"BLK\", \"TOV\"])\n",
    "df.info()"
   ]
  },
  {
   "cell_type": "code",
   "execution_count": 553,
   "metadata": {},
   "outputs": [
    {
     "name": "stdout",
     "output_type": "stream",
     "text": [
      "<class 'pandas.core.frame.DataFrame'>\n",
      "RangeIndex: 65 entries, 0 to 64\n",
      "Data columns (total 9 columns):\n",
      " #   Column  Non-Null Count  Dtype  \n",
      "---  ------  --------------  -----  \n",
      " 0   MP      65 non-null     object \n",
      " 1   FG%     65 non-null     float64\n",
      " 2   FT%     65 non-null     float64\n",
      " 3   TRB     65 non-null     int64  \n",
      " 4   AST     65 non-null     int64  \n",
      " 5   STL     65 non-null     int64  \n",
      " 6   BLK     65 non-null     int64  \n",
      " 7   TOV     65 non-null     int64  \n",
      " 8   PTS     65 non-null     int64  \n",
      "dtypes: float64(2), int64(6), object(1)\n",
      "memory usage: 4.7+ KB\n"
     ]
    }
   ],
   "source": [
    "# Putting zero(0) value for non-values\n",
    "df = df.fillna(0)\n",
    "df.info()  "
   ]
  },
  {
   "cell_type": "markdown",
   "metadata": {},
   "source": [
    "**Explanation of the abbreviations:**\n",
    "- MP = Minutes Played\n",
    "- FG% = Field Goal Percentage \n",
    "- FT% = Free Throw Percentage \n",
    "- TRB = Total Rebound \n",
    "- AST = Assist \n",
    "- STL = Steal \n",
    "- BLK = Block \n",
    "- TOV = Turnover\n",
    "- PTS = Points"
   ]
  },
  {
   "cell_type": "code",
   "execution_count": 554,
   "metadata": {},
   "outputs": [
    {
     "data": {
      "text/html": [
       "<div>\n",
       "<style scoped>\n",
       "    .dataframe tbody tr th:only-of-type {\n",
       "        vertical-align: middle;\n",
       "    }\n",
       "\n",
       "    .dataframe tbody tr th {\n",
       "        vertical-align: top;\n",
       "    }\n",
       "\n",
       "    .dataframe thead th {\n",
       "        text-align: right;\n",
       "    }\n",
       "</style>\n",
       "<table border=\"1\" class=\"dataframe\">\n",
       "  <thead>\n",
       "    <tr style=\"text-align: right;\">\n",
       "      <th></th>\n",
       "      <th>MP</th>\n",
       "      <th>FG%</th>\n",
       "      <th>FT%</th>\n",
       "      <th>TRB</th>\n",
       "      <th>AST</th>\n",
       "      <th>STL</th>\n",
       "      <th>BLK</th>\n",
       "      <th>TOV</th>\n",
       "      <th>PTS</th>\n",
       "    </tr>\n",
       "  </thead>\n",
       "  <tbody>\n",
       "    <tr>\n",
       "      <th>0</th>\n",
       "      <td>35:35</td>\n",
       "      <td>0.833</td>\n",
       "      <td>0.667</td>\n",
       "      <td>1</td>\n",
       "      <td>8</td>\n",
       "      <td>1</td>\n",
       "      <td>1</td>\n",
       "      <td>3</td>\n",
       "      <td>27</td>\n",
       "    </tr>\n",
       "    <tr>\n",
       "      <th>1</th>\n",
       "      <td>34:19</td>\n",
       "      <td>0.625</td>\n",
       "      <td>0.500</td>\n",
       "      <td>6</td>\n",
       "      <td>6</td>\n",
       "      <td>0</td>\n",
       "      <td>0</td>\n",
       "      <td>0</td>\n",
       "      <td>15</td>\n",
       "    </tr>\n",
       "    <tr>\n",
       "      <th>2</th>\n",
       "      <td>34:46</td>\n",
       "      <td>0.476</td>\n",
       "      <td>1.000</td>\n",
       "      <td>3</td>\n",
       "      <td>12</td>\n",
       "      <td>1</td>\n",
       "      <td>1</td>\n",
       "      <td>4</td>\n",
       "      <td>28</td>\n",
       "    </tr>\n",
       "    <tr>\n",
       "      <th>3</th>\n",
       "      <td>31:49</td>\n",
       "      <td>0.556</td>\n",
       "      <td>1.000</td>\n",
       "      <td>2</td>\n",
       "      <td>14</td>\n",
       "      <td>2</td>\n",
       "      <td>1</td>\n",
       "      <td>1</td>\n",
       "      <td>16</td>\n",
       "    </tr>\n",
       "    <tr>\n",
       "      <th>4</th>\n",
       "      <td>34:56</td>\n",
       "      <td>0.444</td>\n",
       "      <td>1.000</td>\n",
       "      <td>6</td>\n",
       "      <td>10</td>\n",
       "      <td>4</td>\n",
       "      <td>0</td>\n",
       "      <td>6</td>\n",
       "      <td>13</td>\n",
       "    </tr>\n",
       "  </tbody>\n",
       "</table>\n",
       "</div>"
      ],
      "text/plain": [
       "      MP    FG%    FT%  TRB  AST  STL  BLK  TOV  PTS\n",
       "0  35:35  0.833  0.667    1    8    1    1    3   27\n",
       "1  34:19  0.625  0.500    6    6    0    0    0   15\n",
       "2  34:46  0.476  1.000    3   12    1    1    4   28\n",
       "3  31:49  0.556  1.000    2   14    2    1    1   16\n",
       "4  34:56  0.444  1.000    6   10    4    0    6   13"
      ]
     },
     "execution_count": 554,
     "metadata": {},
     "output_type": "execute_result"
    }
   ],
   "source": [
    "df.head()"
   ]
  },
  {
   "cell_type": "code",
   "execution_count": 555,
   "metadata": {},
   "outputs": [],
   "source": [
    "df['MP'] = df['MP'].astype(str).str[0:2].str.replace(\":\",\"\")\n",
    "# df['MP'].str.split(\":\")[0][0]\n"
   ]
  },
  {
   "cell_type": "code",
   "execution_count": 556,
   "metadata": {},
   "outputs": [
    {
     "data": {
      "text/plain": [
       "0     35\n",
       "1     34\n",
       "2     34\n",
       "3     31\n",
       "4     34\n",
       "      ..\n",
       "60    28\n",
       "61    26\n",
       "62    33\n",
       "63    36\n",
       "64    42\n",
       "Name: MP, Length: 65, dtype: int64"
      ]
     },
     "execution_count": 556,
     "metadata": {},
     "output_type": "execute_result"
    }
   ],
   "source": [
    "# getting only minutes and removing seconds from MP(minutes played) column\n",
    "# df['MP'] = df['MP'].astype(str).str[0:2]\n",
    "df['MP'] = df['MP'].apply(int)\n",
    "df['MP']"
   ]
  },
  {
   "cell_type": "code",
   "execution_count": 557,
   "metadata": {
    "scrolled": true
   },
   "outputs": [
    {
     "data": {
      "text/html": [
       "<div>\n",
       "<style scoped>\n",
       "    .dataframe tbody tr th:only-of-type {\n",
       "        vertical-align: middle;\n",
       "    }\n",
       "\n",
       "    .dataframe tbody tr th {\n",
       "        vertical-align: top;\n",
       "    }\n",
       "\n",
       "    .dataframe thead th {\n",
       "        text-align: right;\n",
       "    }\n",
       "</style>\n",
       "<table border=\"1\" class=\"dataframe\">\n",
       "  <thead>\n",
       "    <tr style=\"text-align: right;\">\n",
       "      <th></th>\n",
       "      <th>MP</th>\n",
       "      <th>FG%</th>\n",
       "      <th>FT%</th>\n",
       "      <th>TRB</th>\n",
       "      <th>AST</th>\n",
       "      <th>STL</th>\n",
       "      <th>BLK</th>\n",
       "      <th>TOV</th>\n",
       "      <th>PTS</th>\n",
       "    </tr>\n",
       "  </thead>\n",
       "  <tbody>\n",
       "    <tr>\n",
       "      <th>0</th>\n",
       "      <td>35</td>\n",
       "      <td>0.833</td>\n",
       "      <td>0.667</td>\n",
       "      <td>1</td>\n",
       "      <td>8</td>\n",
       "      <td>1</td>\n",
       "      <td>1</td>\n",
       "      <td>3</td>\n",
       "      <td>27</td>\n",
       "    </tr>\n",
       "    <tr>\n",
       "      <th>1</th>\n",
       "      <td>34</td>\n",
       "      <td>0.625</td>\n",
       "      <td>0.500</td>\n",
       "      <td>6</td>\n",
       "      <td>6</td>\n",
       "      <td>0</td>\n",
       "      <td>0</td>\n",
       "      <td>0</td>\n",
       "      <td>15</td>\n",
       "    </tr>\n",
       "    <tr>\n",
       "      <th>2</th>\n",
       "      <td>34</td>\n",
       "      <td>0.476</td>\n",
       "      <td>1.000</td>\n",
       "      <td>3</td>\n",
       "      <td>12</td>\n",
       "      <td>1</td>\n",
       "      <td>1</td>\n",
       "      <td>4</td>\n",
       "      <td>28</td>\n",
       "    </tr>\n",
       "    <tr>\n",
       "      <th>3</th>\n",
       "      <td>31</td>\n",
       "      <td>0.556</td>\n",
       "      <td>1.000</td>\n",
       "      <td>2</td>\n",
       "      <td>14</td>\n",
       "      <td>2</td>\n",
       "      <td>1</td>\n",
       "      <td>1</td>\n",
       "      <td>16</td>\n",
       "    </tr>\n",
       "    <tr>\n",
       "      <th>4</th>\n",
       "      <td>34</td>\n",
       "      <td>0.444</td>\n",
       "      <td>1.000</td>\n",
       "      <td>6</td>\n",
       "      <td>10</td>\n",
       "      <td>4</td>\n",
       "      <td>0</td>\n",
       "      <td>6</td>\n",
       "      <td>13</td>\n",
       "    </tr>\n",
       "    <tr>\n",
       "      <th>...</th>\n",
       "      <td>...</td>\n",
       "      <td>...</td>\n",
       "      <td>...</td>\n",
       "      <td>...</td>\n",
       "      <td>...</td>\n",
       "      <td>...</td>\n",
       "      <td>...</td>\n",
       "      <td>...</td>\n",
       "      <td>...</td>\n",
       "    </tr>\n",
       "    <tr>\n",
       "      <th>60</th>\n",
       "      <td>28</td>\n",
       "      <td>0.200</td>\n",
       "      <td>0.833</td>\n",
       "      <td>7</td>\n",
       "      <td>8</td>\n",
       "      <td>4</td>\n",
       "      <td>0</td>\n",
       "      <td>3</td>\n",
       "      <td>10</td>\n",
       "    </tr>\n",
       "    <tr>\n",
       "      <th>61</th>\n",
       "      <td>26</td>\n",
       "      <td>0.500</td>\n",
       "      <td>0.750</td>\n",
       "      <td>6</td>\n",
       "      <td>7</td>\n",
       "      <td>3</td>\n",
       "      <td>1</td>\n",
       "      <td>0</td>\n",
       "      <td>12</td>\n",
       "    </tr>\n",
       "    <tr>\n",
       "      <th>62</th>\n",
       "      <td>33</td>\n",
       "      <td>0.273</td>\n",
       "      <td>1.000</td>\n",
       "      <td>5</td>\n",
       "      <td>4</td>\n",
       "      <td>0</td>\n",
       "      <td>0</td>\n",
       "      <td>0</td>\n",
       "      <td>10</td>\n",
       "    </tr>\n",
       "    <tr>\n",
       "      <th>63</th>\n",
       "      <td>36</td>\n",
       "      <td>0.462</td>\n",
       "      <td>1.000</td>\n",
       "      <td>5</td>\n",
       "      <td>11</td>\n",
       "      <td>0</td>\n",
       "      <td>0</td>\n",
       "      <td>3</td>\n",
       "      <td>16</td>\n",
       "    </tr>\n",
       "    <tr>\n",
       "      <th>64</th>\n",
       "      <td>42</td>\n",
       "      <td>0.125</td>\n",
       "      <td>0.750</td>\n",
       "      <td>9</td>\n",
       "      <td>5</td>\n",
       "      <td>3</td>\n",
       "      <td>0</td>\n",
       "      <td>2</td>\n",
       "      <td>5</td>\n",
       "    </tr>\n",
       "  </tbody>\n",
       "</table>\n",
       "<p>65 rows × 9 columns</p>\n",
       "</div>"
      ],
      "text/plain": [
       "    MP    FG%    FT%  TRB  AST  STL  BLK  TOV  PTS\n",
       "0   35  0.833  0.667    1    8    1    1    3   27\n",
       "1   34  0.625  0.500    6    6    0    0    0   15\n",
       "2   34  0.476  1.000    3   12    1    1    4   28\n",
       "3   31  0.556  1.000    2   14    2    1    1   16\n",
       "4   34  0.444  1.000    6   10    4    0    6   13\n",
       "..  ..    ...    ...  ...  ...  ...  ...  ...  ...\n",
       "60  28  0.200  0.833    7    8    4    0    3   10\n",
       "61  26  0.500  0.750    6    7    3    1    0   12\n",
       "62  33  0.273  1.000    5    4    0    0    0   10\n",
       "63  36  0.462  1.000    5   11    0    0    3   16\n",
       "64  42  0.125  0.750    9    5    3    0    2    5\n",
       "\n",
       "[65 rows x 9 columns]"
      ]
     },
     "execution_count": 557,
     "metadata": {},
     "output_type": "execute_result"
    }
   ],
   "source": [
    "# print(file_list[x])\n",
    "df"
   ]
  },
  {
   "cell_type": "code",
   "execution_count": 558,
   "metadata": {},
   "outputs": [
    {
     "data": {
      "text/html": [
       "<div>\n",
       "<style scoped>\n",
       "    .dataframe tbody tr th:only-of-type {\n",
       "        vertical-align: middle;\n",
       "    }\n",
       "\n",
       "    .dataframe tbody tr th {\n",
       "        vertical-align: top;\n",
       "    }\n",
       "\n",
       "    .dataframe thead th {\n",
       "        text-align: right;\n",
       "    }\n",
       "</style>\n",
       "<table border=\"1\" class=\"dataframe\">\n",
       "  <thead>\n",
       "    <tr style=\"text-align: right;\">\n",
       "      <th></th>\n",
       "      <th>MP</th>\n",
       "      <th>FG%</th>\n",
       "      <th>FT%</th>\n",
       "      <th>TRB</th>\n",
       "      <th>AST</th>\n",
       "      <th>STL</th>\n",
       "      <th>BLK</th>\n",
       "      <th>TOV</th>\n",
       "      <th>PTS</th>\n",
       "    </tr>\n",
       "  </thead>\n",
       "  <tbody>\n",
       "    <tr>\n",
       "      <th>0</th>\n",
       "      <td>35</td>\n",
       "      <td>0.833</td>\n",
       "      <td>0.667</td>\n",
       "      <td>1</td>\n",
       "      <td>8</td>\n",
       "      <td>1</td>\n",
       "      <td>1</td>\n",
       "      <td>3</td>\n",
       "      <td>27</td>\n",
       "    </tr>\n",
       "    <tr>\n",
       "      <th>1</th>\n",
       "      <td>34</td>\n",
       "      <td>0.625</td>\n",
       "      <td>0.500</td>\n",
       "      <td>6</td>\n",
       "      <td>6</td>\n",
       "      <td>0</td>\n",
       "      <td>0</td>\n",
       "      <td>0</td>\n",
       "      <td>15</td>\n",
       "    </tr>\n",
       "    <tr>\n",
       "      <th>2</th>\n",
       "      <td>34</td>\n",
       "      <td>0.476</td>\n",
       "      <td>1.000</td>\n",
       "      <td>3</td>\n",
       "      <td>12</td>\n",
       "      <td>1</td>\n",
       "      <td>1</td>\n",
       "      <td>4</td>\n",
       "      <td>28</td>\n",
       "    </tr>\n",
       "    <tr>\n",
       "      <th>3</th>\n",
       "      <td>31</td>\n",
       "      <td>0.556</td>\n",
       "      <td>1.000</td>\n",
       "      <td>2</td>\n",
       "      <td>14</td>\n",
       "      <td>2</td>\n",
       "      <td>1</td>\n",
       "      <td>1</td>\n",
       "      <td>16</td>\n",
       "    </tr>\n",
       "    <tr>\n",
       "      <th>4</th>\n",
       "      <td>34</td>\n",
       "      <td>0.444</td>\n",
       "      <td>1.000</td>\n",
       "      <td>6</td>\n",
       "      <td>10</td>\n",
       "      <td>4</td>\n",
       "      <td>0</td>\n",
       "      <td>6</td>\n",
       "      <td>13</td>\n",
       "    </tr>\n",
       "  </tbody>\n",
       "</table>\n",
       "</div>"
      ],
      "text/plain": [
       "   MP    FG%    FT%  TRB  AST  STL  BLK  TOV  PTS\n",
       "0  35  0.833  0.667    1    8    1    1    3   27\n",
       "1  34  0.625  0.500    6    6    0    0    0   15\n",
       "2  34  0.476  1.000    3   12    1    1    4   28\n",
       "3  31  0.556  1.000    2   14    2    1    1   16\n",
       "4  34  0.444  1.000    6   10    4    0    6   13"
      ]
     },
     "execution_count": 558,
     "metadata": {},
     "output_type": "execute_result"
    }
   ],
   "source": [
    "df.head()"
   ]
  },
  {
   "cell_type": "markdown",
   "metadata": {},
   "source": [
    "# Hypothesis \n",
    "\n",
    "H0: There is no difference in the accuracy or performance among the models selected\n",
    "\n",
    "H1: There is a difference in the accuracy or performance among the models selected\n",
    "- We set our confidence level as 95%. If the Z-score calculated from p-value is smaller than 1.96, we cannot deny H0. However, if it is greater than 1.95, we will deny H0 and accept H1.,"
   ]
  },
  {
   "cell_type": "markdown",
   "metadata": {},
   "source": [
    "## Linear Regression Model "
   ]
  },
  {
   "cell_type": "code",
   "execution_count": 559,
   "metadata": {},
   "outputs": [
    {
     "name": "stdout",
     "output_type": "stream",
     "text": [
      "Coefficients: \n",
      " [[0.27431401]]\n",
      "Mean squared error: 41.36\n",
      "Coefficient of determination: 0.09\n"
     ]
    },
    {
     "data": {
      "image/png": "[encoded data removed]",
      "text/plain": [
       "<Figure size 432x288 with 1 Axes>"
      ]
     },
     "metadata": {},
     "output_type": "display_data"
    }
   ],
   "source": [
    "import matplotlib.pyplot as plt\n",
    "import numpy as np\n",
    "from sklearn import datasets, linear_model\n",
    "from sklearn.metrics import mean_squared_error, r2_score\n",
    "\n",
    "# defining features\n",
    "df_X = df[[\"MP\"]].to_numpy()\n",
    "\n",
    "# target variable\n",
    "df_y = df[['PTS']].to_numpy()\n",
    "\n",
    "# Split the data into training/testing sets\n",
    "df_X_train = df_X[:-20]\n",
    "df_X_test = df_X[-20:]\n",
    "\n",
    "# Split the targets into training/testing sets\n",
    "df_y_train = df_y[:-20]\n",
    "df_y_test = df_y[-20:]\n",
    "\n",
    "# Create linear regression object\n",
    "regr = linear_model.LinearRegression()\n",
    "\n",
    "# Train the model using the training sets\n",
    "regr.fit(df_X_train, df_y_train)\n",
    "\n",
    "# Make predictions using the testing set\n",
    "df_y_pred = regr.predict(df_X_test)\n",
    "\n",
    "# The coefficients\n",
    "print('Coefficients: \\n', regr.coef_)\n",
    "\n",
    "# The mean squared error\n",
    "print('Mean squared error: %.2f'\n",
    "     % mean_squared_error(df_y_test, df_y_pred))\n",
    "\n",
    "# The coefficient of determination: 1 is perfect prediction\n",
    "print('Coefficient of determination: %.2f'\n",
    "     % r2_score(df_y_test, df_y_pred))\n",
    "\n",
    "# Plot outputs \n",
    "plt.scatter(df_X_test, df_y_test, color='black')\n",
    "plt.plot(df_X_test, df_y_pred, color='blue', linewidth=3)\n",
    "\n",
    "plt.xticks(())\n",
    "plt.yticks(())\n",
    "\n",
    "plt.show()"
   ]
  },
  {
   "cell_type": "code",
   "execution_count": 560,
   "metadata": {},
   "outputs": [
    {
     "name": "stdout",
     "output_type": "stream",
     "text": [
      "For MP effect on PTS\n",
      "Coefficients: \n",
      " [[0.27431401]]\n",
      "Mean squared error: 41.36\n",
      "Coefficient of determination: 0.09\n"
     ]
    },
    {
     "data": {
      "image/png": "[encoded data removed]",
      "text/plain": [
       "<Figure size 432x288 with 1 Axes>"
      ]
     },
     "metadata": {},
     "output_type": "display_data"
    },
    {
     "name": "stdout",
     "output_type": "stream",
     "text": [
      "For FG% effect on PTS\n",
      "Coefficients: \n",
      " [[30.79356153]]\n",
      "Mean squared error: 38.65\n",
      "Coefficient of determination: 0.15\n"
     ]
    },
    {
     "data": {
      "image/png": "[encoded data removed]",
      "text/plain": [
       "<Figure size 432x288 with 1 Axes>"
      ]
     },
     "metadata": {},
     "output_type": "display_data"
    },
    {
     "name": "stdout",
     "output_type": "stream",
     "text": [
      "For PTS effect on PTS\n",
      "Coefficients: \n",
      " [[1.]]\n",
      "Mean squared error: 0.00\n",
      "Coefficient of determination: 1.00\n"
     ]
    },
    {
     "data": {
      "image/png": "[encoded data removed]",
      "text/plain": [
       "<Figure size 432x288 with 1 Axes>"
      ]
     },
     "metadata": {},
     "output_type": "display_data"
    },
    {
     "name": "stdout",
     "output_type": "stream",
     "text": [
      "For FT% effect on PTS\n",
      "Coefficients: \n",
      " [[6.62304807]]\n",
      "Mean squared error: 41.79\n",
      "Coefficient of determination: 0.08\n"
     ]
    },
    {
     "data": {
      "image/png": "[encoded data removed]",
      "text/plain": [
       "<Figure size 432x288 with 1 Axes>"
      ]
     },
     "metadata": {},
     "output_type": "display_data"
    },
    {
     "name": "stdout",
     "output_type": "stream",
     "text": [
      "For TRB effect on PTS\n",
      "Coefficients: \n",
      " [[0.02764538]]\n",
      "Mean squared error: 45.49\n",
      "Coefficient of determination: -0.00\n"
     ]
    },
    {
     "data": {
      "image/png": "[encoded data removed]",
      "text/plain": [
       "<Figure size 432x288 with 1 Axes>"
      ]
     },
     "metadata": {},
     "output_type": "display_data"
    },
    {
     "name": "stdout",
     "output_type": "stream",
     "text": [
      "For AST effect on PTS\n",
      "Coefficients: \n",
      " [[0.14001887]]\n",
      "Mean squared error: 44.68\n",
      "Coefficient of determination: 0.01\n"
     ]
    },
    {
     "data": {
      "image/png": "[encoded data removed]",
      "text/plain": [
       "<Figure size 432x288 with 1 Axes>"
      ]
     },
     "metadata": {},
     "output_type": "display_data"
    },
    {
     "name": "stdout",
     "output_type": "stream",
     "text": [
      "For STL effect on PTS\n",
      "Coefficients: \n",
      " [[-0.03998533]]\n",
      "Mean squared error: 45.43\n",
      "Coefficient of determination: -0.00\n"
     ]
    },
    {
     "data": {
      "image/png": "[encoded data removed]",
      "text/plain": [
       "<Figure size 432x288 with 1 Axes>"
      ]
     },
     "metadata": {},
     "output_type": "display_data"
    },
    {
     "name": "stdout",
     "output_type": "stream",
     "text": [
      "For BLK effect on PTS\n",
      "Coefficients: \n",
      " [[0.54736842]]\n",
      "Mean squared error: 45.29\n",
      "Coefficient of determination: 0.00\n"
     ]
    },
    {
     "data": {
      "image/png": "[encoded data removed]",
      "text/plain": [
       "<Figure size 432x288 with 1 Axes>"
      ]
     },
     "metadata": {},
     "output_type": "display_data"
    },
    {
     "name": "stdout",
     "output_type": "stream",
     "text": [
      "For TOV effect on PTS\n",
      "Coefficients: \n",
      " [[-0.04946996]]\n",
      "Mean squared error: 45.86\n",
      "Coefficient of determination: -0.01\n"
     ]
    },
    {
     "data": {
      "image/png": "[encoded data removed]",
      "text/plain": [
       "<Figure size 432x288 with 1 Axes>"
      ]
     },
     "metadata": {},
     "output_type": "display_data"
    }
   ],
   "source": [
    "# Checking all features one by one with FOR loop \n",
    "\n",
    "import matplotlib.pyplot as plt\n",
    "import numpy as np\n",
    "from sklearn import datasets, linear_model\n",
    "from sklearn.metrics import mean_squared_error, r2_score\n",
    "\n",
    "features = [\"MP\", \"FG%\", \"PTS\", \"FT%\", \"TRB\", \"AST\", \"STL\", \"BLK\", \"TOV\"]\n",
    "\n",
    "for element in features: \n",
    "    print(\"For\", element, \"effect on PTS\")\n",
    "    # # defining features\n",
    "    df_X = df[[element]].to_numpy()\n",
    "\n",
    "    # # target variable\n",
    "    df_y = df[['PTS']].to_numpy()\n",
    "\n",
    "    # Split the data into training/testing sets\n",
    "    df_X_train = df_X[:-20]\n",
    "    df_X_test = df_X[-20:]\n",
    "\n",
    "    # Split the targets into training/testing sets\n",
    "    df_y_train = df_y[:-20]\n",
    "    df_y_test = df_y[-20:]\n",
    "\n",
    "    # Create linear regression object\n",
    "    regr = linear_model.LinearRegression()\n",
    "\n",
    "    # Train the model using the training sets\n",
    "    regr.fit(df_X_train, df_y_train)\n",
    "\n",
    "    # Make predictions using the testing set\n",
    "    df_y_pred = regr.predict(df_X_test)\n",
    "\n",
    "    # The coefficients\n",
    "    print('Coefficients: \\n', regr.coef_)\n",
    "\n",
    "    # The mean squared error\n",
    "    print('Mean squared error: %.2f'\n",
    "         % mean_squared_error(df_y_test, df_y_pred))\n",
    "\n",
    "    # The coefficient of determination: 1 is perfect prediction\n",
    "    print('Coefficient of determination: %.2f'\n",
    "         % r2_score(df_y_test, df_y_pred))\n",
    "\n",
    "    # Plot outputs \n",
    "    plt.scatter(df_X_test, df_y_test, color='black')\n",
    "    plt.plot(df_X_test, df_y_pred, color='blue', linewidth=3)\n",
    "\n",
    "    plt.xticks(())\n",
    "    plt.yticks(())\n",
    "\n",
    "    plt.show()"
   ]
  },
  {
   "cell_type": "code",
   "execution_count": 561,
   "metadata": {},
   "outputs": [
    {
     "name": "stdout",
     "output_type": "stream",
     "text": [
      "Coefficients: \n",
      " [[4.10732525e-01 3.22548210e+01 1.56172592e-01 5.53746733e-03]]\n",
      "Mean squared error: 28.48\n",
      "Coefficient of determination: 0.37\n"
     ]
    },
    {
     "data": {
      "text/html": [
       "<div>\n",
       "<style scoped>\n",
       "    .dataframe tbody tr th:only-of-type {\n",
       "        vertical-align: middle;\n",
       "    }\n",
       "\n",
       "    .dataframe tbody tr th {\n",
       "        vertical-align: top;\n",
       "    }\n",
       "\n",
       "    .dataframe thead th {\n",
       "        text-align: right;\n",
       "    }\n",
       "</style>\n",
       "<table border=\"1\" class=\"dataframe\">\n",
       "  <thead>\n",
       "    <tr style=\"text-align: right;\">\n",
       "      <th></th>\n",
       "      <th>MP</th>\n",
       "      <th>FG%</th>\n",
       "      <th>FT%</th>\n",
       "      <th>TRB</th>\n",
       "      <th>AST</th>\n",
       "      <th>STL</th>\n",
       "      <th>BLK</th>\n",
       "      <th>TOV</th>\n",
       "      <th>PTS</th>\n",
       "    </tr>\n",
       "  </thead>\n",
       "  <tbody>\n",
       "    <tr>\n",
       "      <th>0</th>\n",
       "      <td>35</td>\n",
       "      <td>0.833</td>\n",
       "      <td>0.667</td>\n",
       "      <td>1</td>\n",
       "      <td>8</td>\n",
       "      <td>1</td>\n",
       "      <td>1</td>\n",
       "      <td>3</td>\n",
       "      <td>27</td>\n",
       "    </tr>\n",
       "    <tr>\n",
       "      <th>1</th>\n",
       "      <td>34</td>\n",
       "      <td>0.625</td>\n",
       "      <td>0.500</td>\n",
       "      <td>6</td>\n",
       "      <td>6</td>\n",
       "      <td>0</td>\n",
       "      <td>0</td>\n",
       "      <td>0</td>\n",
       "      <td>15</td>\n",
       "    </tr>\n",
       "    <tr>\n",
       "      <th>2</th>\n",
       "      <td>34</td>\n",
       "      <td>0.476</td>\n",
       "      <td>1.000</td>\n",
       "      <td>3</td>\n",
       "      <td>12</td>\n",
       "      <td>1</td>\n",
       "      <td>1</td>\n",
       "      <td>4</td>\n",
       "      <td>28</td>\n",
       "    </tr>\n",
       "    <tr>\n",
       "      <th>3</th>\n",
       "      <td>31</td>\n",
       "      <td>0.556</td>\n",
       "      <td>1.000</td>\n",
       "      <td>2</td>\n",
       "      <td>14</td>\n",
       "      <td>2</td>\n",
       "      <td>1</td>\n",
       "      <td>1</td>\n",
       "      <td>16</td>\n",
       "    </tr>\n",
       "    <tr>\n",
       "      <th>4</th>\n",
       "      <td>34</td>\n",
       "      <td>0.444</td>\n",
       "      <td>1.000</td>\n",
       "      <td>6</td>\n",
       "      <td>10</td>\n",
       "      <td>4</td>\n",
       "      <td>0</td>\n",
       "      <td>6</td>\n",
       "      <td>13</td>\n",
       "    </tr>\n",
       "    <tr>\n",
       "      <th>...</th>\n",
       "      <td>...</td>\n",
       "      <td>...</td>\n",
       "      <td>...</td>\n",
       "      <td>...</td>\n",
       "      <td>...</td>\n",
       "      <td>...</td>\n",
       "      <td>...</td>\n",
       "      <td>...</td>\n",
       "      <td>...</td>\n",
       "    </tr>\n",
       "    <tr>\n",
       "      <th>60</th>\n",
       "      <td>28</td>\n",
       "      <td>0.200</td>\n",
       "      <td>0.833</td>\n",
       "      <td>7</td>\n",
       "      <td>8</td>\n",
       "      <td>4</td>\n",
       "      <td>0</td>\n",
       "      <td>3</td>\n",
       "      <td>10</td>\n",
       "    </tr>\n",
       "    <tr>\n",
       "      <th>61</th>\n",
       "      <td>26</td>\n",
       "      <td>0.500</td>\n",
       "      <td>0.750</td>\n",
       "      <td>6</td>\n",
       "      <td>7</td>\n",
       "      <td>3</td>\n",
       "      <td>1</td>\n",
       "      <td>0</td>\n",
       "      <td>12</td>\n",
       "    </tr>\n",
       "    <tr>\n",
       "      <th>62</th>\n",
       "      <td>33</td>\n",
       "      <td>0.273</td>\n",
       "      <td>1.000</td>\n",
       "      <td>5</td>\n",
       "      <td>4</td>\n",
       "      <td>0</td>\n",
       "      <td>0</td>\n",
       "      <td>0</td>\n",
       "      <td>10</td>\n",
       "    </tr>\n",
       "    <tr>\n",
       "      <th>63</th>\n",
       "      <td>36</td>\n",
       "      <td>0.462</td>\n",
       "      <td>1.000</td>\n",
       "      <td>5</td>\n",
       "      <td>11</td>\n",
       "      <td>0</td>\n",
       "      <td>0</td>\n",
       "      <td>3</td>\n",
       "      <td>16</td>\n",
       "    </tr>\n",
       "    <tr>\n",
       "      <th>64</th>\n",
       "      <td>42</td>\n",
       "      <td>0.125</td>\n",
       "      <td>0.750</td>\n",
       "      <td>9</td>\n",
       "      <td>5</td>\n",
       "      <td>3</td>\n",
       "      <td>0</td>\n",
       "      <td>2</td>\n",
       "      <td>5</td>\n",
       "    </tr>\n",
       "  </tbody>\n",
       "</table>\n",
       "<p>65 rows × 9 columns</p>\n",
       "</div>"
      ],
      "text/plain": [
       "    MP    FG%    FT%  TRB  AST  STL  BLK  TOV  PTS\n",
       "0   35  0.833  0.667    1    8    1    1    3   27\n",
       "1   34  0.625  0.500    6    6    0    0    0   15\n",
       "2   34  0.476  1.000    3   12    1    1    4   28\n",
       "3   31  0.556  1.000    2   14    2    1    1   16\n",
       "4   34  0.444  1.000    6   10    4    0    6   13\n",
       "..  ..    ...    ...  ...  ...  ...  ...  ...  ...\n",
       "60  28  0.200  0.833    7    8    4    0    3   10\n",
       "61  26  0.500  0.750    6    7    3    1    0   12\n",
       "62  33  0.273  1.000    5    4    0    0    0   10\n",
       "63  36  0.462  1.000    5   11    0    0    3   16\n",
       "64  42  0.125  0.750    9    5    3    0    2    5\n",
       "\n",
       "[65 rows x 9 columns]"
      ]
     },
     "execution_count": 561,
     "metadata": {},
     "output_type": "execute_result"
    }
   ],
   "source": [
    "# Adding more features to predict the target \n",
    "\n",
    "import matplotlib.pyplot as plt\n",
    "import numpy as np\n",
    "from sklearn import datasets, linear_model\n",
    "from sklearn.metrics import mean_squared_error, r2_score\n",
    "\n",
    "# # defining features\n",
    "df_X = df[[\"MP\", \"FG%\", \"AST\", \"TRB\"]].to_numpy()\n",
    "\n",
    "# # target variable\n",
    "df_y = df[['PTS']].to_numpy()\n",
    "\n",
    "# Split the data into training/testing sets\n",
    "df_X_train = df_X[:-20]\n",
    "df_X_test = df_X[-20:]\n",
    "\n",
    "# Split the targets into training/testing sets\n",
    "df_y_train = df_y[:-20]\n",
    "df_y_test = df_y[-20:]\n",
    "\n",
    "# Create linear regression object\n",
    "regr = linear_model.LinearRegression()\n",
    "\n",
    "# Train the model using the training sets\n",
    "regr.fit(df_X_train, df_y_train)\n",
    "\n",
    "# Make predictions using the testing set\n",
    "df_y_pred = regr.predict(df_X_test)\n",
    "\n",
    "# The coefficients\n",
    "print('Coefficients: \\n', regr.coef_)\n",
    "\n",
    "# The mean squared error\n",
    "print('Mean squared error: %.2f'\n",
    "     % mean_squared_error(df_y_test, df_y_pred))\n",
    "\n",
    "# The coefficient of determination: 1 is perfect prediction\n",
    "print('Coefficient of determination: %.2f'\n",
    "     % r2_score(df_y_test, df_y_pred))\n",
    "\n",
    "df"
   ]
  },
  {
   "cell_type": "code",
   "execution_count": 562,
   "metadata": {},
   "outputs": [
    {
     "name": "stdout",
     "output_type": "stream",
     "text": [
      "Coefficients: \n",
      " [[ 0.46572888 31.62339096  2.98253534  0.06135154  0.12108883  0.1554576\n",
      "   1.378895   -0.05627934]]\n",
      "Mean squared error: 28.33\n",
      "Coefficient of determination: 0.38\n"
     ]
    }
   ],
   "source": [
    "# Adding all the features to predict the target \n",
    "\n",
    "import matplotlib.pyplot as plt\n",
    "import numpy as np\n",
    "from sklearn import datasets, linear_model\n",
    "from sklearn.metrics import mean_squared_error, r2_score\n",
    "\n",
    "# # defining features\n",
    "df_X = df[[\"MP\", \"FG%\", \"FT%\", \"TRB\", \"AST\", \"STL\", \"BLK\", \"TOV\"]].to_numpy()\n",
    "\n",
    "# # target variable\n",
    "df_y = df[['PTS']].to_numpy()\n",
    "\n",
    "# Split the data into training/testing sets\n",
    "df_X_train = df_X[:-20]\n",
    "df_X_test = df_X[-20:]\n",
    "\n",
    "# Split the targets into training/testing sets\n",
    "df_y_train = df_y[:-20]\n",
    "df_y_test = df_y[-20:]\n",
    "\n",
    "# Create linear regression object\n",
    "regr = linear_model.LinearRegression()\n",
    "\n",
    "# Train the model using the training sets\n",
    "regr.fit(df_X_train, df_y_train)\n",
    "\n",
    "# Make predictions using the testing set\n",
    "df_y_pred = regr.predict(df_X_test)\n",
    "\n",
    "# The coefficients\n",
    "print('Coefficients: \\n', regr.coef_)\n",
    "\n",
    "# The mean squared error\n",
    "print('Mean squared error: %.2f'\n",
    "     % mean_squared_error(df_y_test, df_y_pred))\n",
    "\n",
    "# The coefficient of determination: 1 is perfect prediction\n",
    "print('Coefficient of determination: %.2f'\n",
    "     % r2_score(df_y_test, df_y_pred))"
   ]
  },
  {
   "cell_type": "code",
   "execution_count": 563,
   "metadata": {},
   "outputs": [
    {
     "name": "stdout",
     "output_type": "stream",
     "text": [
      "For LINEAR REGRESSION MODEL \n",
      "Mean absolute error is: 4.0527946606195595 \n",
      " Mean squared error is: 28.328030284240878 \n",
      " R-squared score is: 0.3753121939634846\n"
     ]
    }
   ],
   "source": [
    "# Calculating R-squared score, mean absolute error, and mean squared error for linear regression \n",
    "from sklearn.metrics import mean_absolute_error\n",
    "from sklearn.metrics import mean_squared_error\n",
    "from sklearn.metrics import r2_score\n",
    "\n",
    "print(\"For LINEAR REGRESSION MODEL\", '\\n'\n",
    "      \"Mean absolute error is:\", mean_absolute_error(df_y_test, df_y_pred), '\\n',\n",
    "      \"Mean squared error is:\", mean_squared_error(df_y_test, df_y_pred), '\\n',\n",
    "      \"R-squared score is:\", r2_score(df_y_test, df_y_pred))\n"
   ]
  },
  {
   "cell_type": "code",
   "execution_count": 564,
   "metadata": {},
   "outputs": [
    {
     "name": "stdout",
     "output_type": "stream",
     "text": [
      "Prediction: [16.27289998] vs. Actual: [13]\n",
      "Prediction: [13.0485045] vs. Actual: [14]\n",
      "Prediction: [19.04499421] vs. Actual: [17]\n",
      "Prediction: [17.32956257] vs. Actual: [19]\n",
      "Prediction: [11.64885525] vs. Actual: [7]\n",
      "Prediction: [24.64961516] vs. Actual: [19]\n",
      "Prediction: [19.02584462] vs. Actual: [35]\n",
      "Prediction: [9.45375893] vs. Actual: [8]\n",
      "Prediction: [13.37025685] vs. Actual: [13]\n",
      "Prediction: [19.28927277] vs. Actual: [24]\n",
      "Prediction: [17.30934377] vs. Actual: [14]\n",
      "Prediction: [8.15994777] vs. Actual: [15]\n",
      "Prediction: [15.86897551] vs. Actual: [7]\n",
      "Prediction: [9.72599049] vs. Actual: [14]\n",
      "Prediction: [3.45596129] vs. Actual: [7]\n",
      "Prediction: [5.34048423] vs. Actual: [10]\n",
      "Prediction: [14.85832839] vs. Actual: [12]\n",
      "Prediction: [9.41566877] vs. Actual: [10]\n",
      "Prediction: [17.46846009] vs. Actual: [16]\n",
      "Prediction: [8.90164207] vs. Actual: [5]\n"
     ]
    },
    {
     "data": {
      "text/plain": [
       "[<matplotlib.lines.Line2D at 0x1683858a220>]"
      ]
     },
     "execution_count": 564,
     "metadata": {},
     "output_type": "execute_result"
    },
    {
     "data": {
      "image/png": "[encoded data removed]",
      "text/plain": [
       "<Figure size 432x288 with 1 Axes>"
      ]
     },
     "metadata": {
      "needs_background": "light"
     },
     "output_type": "display_data"
    }
   ],
   "source": [
    "# Printing predicted and actual values\n",
    "\n",
    "for i in range(len(df_y_test)):\n",
    "    print(\"Prediction:\", df_y_pred[i], \"vs. Actual:\", df_y_test[i])\n",
    "\n",
    "plt.plot(df_y_pred)\n",
    "plt.plot(df_y_test)"
   ]
  },
  {
   "cell_type": "markdown",
   "metadata": {},
   "source": [
    "## Statsmodel for Linear Regression"
   ]
  },
  {
   "cell_type": "code",
   "execution_count": 565,
   "metadata": {},
   "outputs": [],
   "source": [
    "import numpy as np\n",
    "import statsmodels.api as sm\n",
    "import statsmodels.formula.api as smf\n"
   ]
  },
  {
   "cell_type": "code",
   "execution_count": 566,
   "metadata": {},
   "outputs": [
    {
     "name": "stdout",
     "output_type": "stream",
     "text": [
      "                                 OLS Regression Results                                \n",
      "=======================================================================================\n",
      "Dep. Variable:                      y   R-squared (uncentered):                   0.924\n",
      "Model:                            OLS   Adj. R-squared (uncentered):              0.913\n",
      "Method:                 Least Squares   F-statistic:                              86.10\n",
      "Date:                Fri, 30 Apr 2021   Prob (F-statistic):                    5.59e-29\n",
      "Time:                        14:54:27   Log-Likelihood:                         -187.52\n",
      "No. Observations:                  65   AIC:                                      391.0\n",
      "Df Residuals:                      57   BIC:                                      408.4\n",
      "Df Model:                           8                                                  \n",
      "Covariance Type:            nonrobust                                                  \n",
      "==============================================================================\n",
      "                 coef    std err          t      P>|t|      [0.025      0.975]\n",
      "------------------------------------------------------------------------------\n",
      "x1             0.0609      0.080      0.759      0.451      -0.100       0.222\n",
      "x2            24.3063      3.355      7.245      0.000      17.588      31.024\n",
      "x3             4.3303      1.661      2.608      0.012       1.005       7.656\n",
      "x4             0.0738      0.270      0.274      0.785      -0.466       0.614\n",
      "x5            -0.0888      0.193     -0.459      0.648      -0.476       0.298\n",
      "x6            -0.3509      0.483     -0.727      0.470      -1.317       0.616\n",
      "x7            -0.1358      0.906     -0.150      0.881      -1.950       1.679\n",
      "x8             0.2194      0.386      0.568      0.572      -0.553       0.992\n",
      "==============================================================================\n",
      "Omnibus:                       20.727   Durbin-Watson:                   2.345\n",
      "Prob(Omnibus):                  0.000   Jarque-Bera (JB):               37.345\n",
      "Skew:                           1.073   Prob(JB):                     7.78e-09\n",
      "Kurtosis:                       6.031   Cond. No.                         208.\n",
      "==============================================================================\n",
      "\n",
      "Warnings:\n",
      "[1] Standard Errors assume that the covariance matrix of the errors is correctly specified.\n"
     ]
    }
   ],
   "source": [
    "mod = sm.OLS(df_y, df_X) #describe model\n",
    "res = mod.fit() #fit model\n",
    "print(res.summary()) #summarize model"
   ]
  },
  {
   "cell_type": "code",
   "execution_count": 567,
   "metadata": {},
   "outputs": [
    {
     "data": {
      "text/plain": [
       "array([ 0.06090355, 24.30627819,  4.33033691,  0.07381981, -0.0887646 ,\n",
       "       -0.35085601, -0.13575726,  0.21938013])"
      ]
     },
     "execution_count": 567,
     "metadata": {},
     "output_type": "execute_result"
    }
   ],
   "source": [
    "res.params"
   ]
  },
  {
   "cell_type": "code",
   "execution_count": 568,
   "metadata": {},
   "outputs": [
    {
     "name": "stdout",
     "output_type": "stream",
     "text": [
      "R-squared: 0.9235701905943569\n"
     ]
    }
   ],
   "source": [
    "print(\"R-squared:\", res.rsquared)"
   ]
  },
  {
   "cell_type": "code",
   "execution_count": 569,
   "metadata": {},
   "outputs": [
    {
     "data": {
      "text/plain": [
       "(1.9356979868493598, 0.04823828054944689)"
      ]
     },
     "execution_count": 569,
     "metadata": {},
     "output_type": "execute_result"
    }
   ],
   "source": [
    "# Apply Rainbow test for linearity\n",
    "sm.stats.linear_rainbow(res)\n",
    "\n",
    "# first number is an F-statistic and that the second is the p-value"
   ]
  },
  {
   "cell_type": "markdown",
   "metadata": {},
   "source": [
    "- Z-score calculated from our p-value(0.0482) is 1.66. Since it is lower than 1.96, we cannot deny H0. We can say that there is no difference in the accuracy or performance among the models selected."
   ]
  },
  {
   "cell_type": "markdown",
   "metadata": {},
   "source": [
    "## Lasso Model"
   ]
  },
  {
   "cell_type": "code",
   "execution_count": 570,
   "metadata": {},
   "outputs": [
    {
     "name": "stdout",
     "output_type": "stream",
     "text": [
      "(65, 9)\n",
      "   MP    FG%    FT%  TRB  AST  STL  BLK  TOV  PTS\n",
      "0  35  0.833  0.667    1    8    1    1    3   27\n",
      "1  34  0.625  0.500    6    6    0    0    0   15\n",
      "2  34  0.476  1.000    3   12    1    1    4   28\n",
      "3  31  0.556  1.000    2   14    2    1    1   16\n",
      "4  34  0.444  1.000    6   10    4    0    6   13\n"
     ]
    }
   ],
   "source": [
    "# load and summarize the housing dataset\n",
    "from pandas import read_csv\n",
    "from matplotlib import pyplot\n",
    "# summarize shape\n",
    "print(df.shape)\n",
    "# summarize first few lines\n",
    "print(df.head())"
   ]
  },
  {
   "cell_type": "code",
   "execution_count": 571,
   "metadata": {},
   "outputs": [
    {
     "name": "stdout",
     "output_type": "stream",
     "text": [
      "Mean MAE: 5.432 (1.482)\n"
     ]
    }
   ],
   "source": [
    "# evaluate an lasso regression model on the dataset\n",
    "from numpy import mean\n",
    "from numpy import std\n",
    "from numpy import absolute\n",
    "from pandas import read_csv\n",
    "from sklearn.model_selection import cross_val_score\n",
    "from sklearn.model_selection import RepeatedKFold\n",
    "from sklearn.linear_model import Lasso\n",
    "\n",
    "data = df.values\n",
    "X, y = data[:, :-1], data[:, -1]\n",
    "# define model\n",
    "model = Lasso(alpha=1.0)\n",
    "# define model evaluation method\n",
    "cv = RepeatedKFold(n_splits=10, n_repeats=3, random_state=1)\n",
    "# evaluate model\n",
    "scores = cross_val_score(model, X, y, scoring='neg_mean_absolute_error', cv=cv, n_jobs=-1)\n",
    "# force scores to be positive\n",
    "scores = absolute(scores)\n",
    "print('Mean MAE: %.3f (%.3f)' % (mean(scores), std(scores)))\n"
   ]
  },
  {
   "cell_type": "code",
   "execution_count": 572,
   "metadata": {},
   "outputs": [
    {
     "data": {
      "text/html": [
       "<div>\n",
       "<style scoped>\n",
       "    .dataframe tbody tr th:only-of-type {\n",
       "        vertical-align: middle;\n",
       "    }\n",
       "\n",
       "    .dataframe tbody tr th {\n",
       "        vertical-align: top;\n",
       "    }\n",
       "\n",
       "    .dataframe thead th {\n",
       "        text-align: right;\n",
       "    }\n",
       "</style>\n",
       "<table border=\"1\" class=\"dataframe\">\n",
       "  <thead>\n",
       "    <tr style=\"text-align: right;\">\n",
       "      <th></th>\n",
       "      <th>MP</th>\n",
       "      <th>FG%</th>\n",
       "      <th>FT%</th>\n",
       "      <th>TRB</th>\n",
       "      <th>AST</th>\n",
       "      <th>STL</th>\n",
       "      <th>BLK</th>\n",
       "      <th>TOV</th>\n",
       "      <th>PTS</th>\n",
       "    </tr>\n",
       "  </thead>\n",
       "  <tbody>\n",
       "    <tr>\n",
       "      <th>55</th>\n",
       "      <td>29</td>\n",
       "      <td>0.625</td>\n",
       "      <td>0.000</td>\n",
       "      <td>5</td>\n",
       "      <td>6</td>\n",
       "      <td>1</td>\n",
       "      <td>1</td>\n",
       "      <td>3</td>\n",
       "      <td>14</td>\n",
       "    </tr>\n",
       "    <tr>\n",
       "      <th>56</th>\n",
       "      <td>26</td>\n",
       "      <td>0.417</td>\n",
       "      <td>0.000</td>\n",
       "      <td>6</td>\n",
       "      <td>8</td>\n",
       "      <td>0</td>\n",
       "      <td>0</td>\n",
       "      <td>2</td>\n",
       "      <td>15</td>\n",
       "    </tr>\n",
       "    <tr>\n",
       "      <th>57</th>\n",
       "      <td>28</td>\n",
       "      <td>0.600</td>\n",
       "      <td>0.000</td>\n",
       "      <td>2</td>\n",
       "      <td>6</td>\n",
       "      <td>1</td>\n",
       "      <td>1</td>\n",
       "      <td>3</td>\n",
       "      <td>7</td>\n",
       "    </tr>\n",
       "    <tr>\n",
       "      <th>58</th>\n",
       "      <td>21</td>\n",
       "      <td>0.556</td>\n",
       "      <td>0.000</td>\n",
       "      <td>2</td>\n",
       "      <td>6</td>\n",
       "      <td>1</td>\n",
       "      <td>0</td>\n",
       "      <td>5</td>\n",
       "      <td>14</td>\n",
       "    </tr>\n",
       "    <tr>\n",
       "      <th>59</th>\n",
       "      <td>25</td>\n",
       "      <td>0.300</td>\n",
       "      <td>0.000</td>\n",
       "      <td>4</td>\n",
       "      <td>2</td>\n",
       "      <td>2</td>\n",
       "      <td>0</td>\n",
       "      <td>2</td>\n",
       "      <td>7</td>\n",
       "    </tr>\n",
       "    <tr>\n",
       "      <th>60</th>\n",
       "      <td>28</td>\n",
       "      <td>0.200</td>\n",
       "      <td>0.833</td>\n",
       "      <td>7</td>\n",
       "      <td>8</td>\n",
       "      <td>4</td>\n",
       "      <td>0</td>\n",
       "      <td>3</td>\n",
       "      <td>10</td>\n",
       "    </tr>\n",
       "    <tr>\n",
       "      <th>61</th>\n",
       "      <td>26</td>\n",
       "      <td>0.500</td>\n",
       "      <td>0.750</td>\n",
       "      <td>6</td>\n",
       "      <td>7</td>\n",
       "      <td>3</td>\n",
       "      <td>1</td>\n",
       "      <td>0</td>\n",
       "      <td>12</td>\n",
       "    </tr>\n",
       "    <tr>\n",
       "      <th>62</th>\n",
       "      <td>33</td>\n",
       "      <td>0.273</td>\n",
       "      <td>1.000</td>\n",
       "      <td>5</td>\n",
       "      <td>4</td>\n",
       "      <td>0</td>\n",
       "      <td>0</td>\n",
       "      <td>0</td>\n",
       "      <td>10</td>\n",
       "    </tr>\n",
       "    <tr>\n",
       "      <th>63</th>\n",
       "      <td>36</td>\n",
       "      <td>0.462</td>\n",
       "      <td>1.000</td>\n",
       "      <td>5</td>\n",
       "      <td>11</td>\n",
       "      <td>0</td>\n",
       "      <td>0</td>\n",
       "      <td>3</td>\n",
       "      <td>16</td>\n",
       "    </tr>\n",
       "    <tr>\n",
       "      <th>64</th>\n",
       "      <td>42</td>\n",
       "      <td>0.125</td>\n",
       "      <td>0.750</td>\n",
       "      <td>9</td>\n",
       "      <td>5</td>\n",
       "      <td>3</td>\n",
       "      <td>0</td>\n",
       "      <td>2</td>\n",
       "      <td>5</td>\n",
       "    </tr>\n",
       "  </tbody>\n",
       "</table>\n",
       "</div>"
      ],
      "text/plain": [
       "    MP    FG%    FT%  TRB  AST  STL  BLK  TOV  PTS\n",
       "55  29  0.625  0.000    5    6    1    1    3   14\n",
       "56  26  0.417  0.000    6    8    0    0    2   15\n",
       "57  28  0.600  0.000    2    6    1    1    3    7\n",
       "58  21  0.556  0.000    2    6    1    0    5   14\n",
       "59  25  0.300  0.000    4    2    2    0    2    7\n",
       "60  28  0.200  0.833    7    8    4    0    3   10\n",
       "61  26  0.500  0.750    6    7    3    1    0   12\n",
       "62  33  0.273  1.000    5    4    0    0    0   10\n",
       "63  36  0.462  1.000    5   11    0    0    3   16\n",
       "64  42  0.125  0.750    9    5    3    0    2    5"
      ]
     },
     "execution_count": 572,
     "metadata": {},
     "output_type": "execute_result"
    }
   ],
   "source": [
    "df.tail(10)"
   ]
  },
  {
   "cell_type": "code",
   "execution_count": 573,
   "metadata": {},
   "outputs": [
    {
     "data": {
      "text/plain": [
       "array([[13],\n",
       "       [14],\n",
       "       [17],\n",
       "       [19],\n",
       "       [ 7],\n",
       "       [19],\n",
       "       [35],\n",
       "       [ 8],\n",
       "       [13],\n",
       "       [24],\n",
       "       [14],\n",
       "       [15],\n",
       "       [ 7],\n",
       "       [14],\n",
       "       [ 7],\n",
       "       [10],\n",
       "       [12],\n",
       "       [10],\n",
       "       [16],\n",
       "       [ 5]], dtype=int64)"
      ]
     },
     "execution_count": 573,
     "metadata": {},
     "output_type": "execute_result"
    }
   ],
   "source": [
    "df_y_test"
   ]
  },
  {
   "cell_type": "code",
   "execution_count": 574,
   "metadata": {},
   "outputs": [
    {
     "data": {
      "text/plain": [
       "array([14.28090141, 14.54903954, 14.45558749, 14.67903594, 14.72372563,\n",
       "       15.99936326, 16.30404575, 16.08466997, 14.50434985, 14.67903594,\n",
       "       12.91588439, 12.21306738, 12.65181893, 10.80336067, 11.68086377,\n",
       "       12.74119831, 12.16837769, 13.88276687, 14.98779109, 16.30404575])"
      ]
     },
     "execution_count": 574,
     "metadata": {},
     "output_type": "execute_result"
    }
   ],
   "source": [
    "#define model \n",
    "model = Lasso(alpha=1.0)\n",
    "\n",
    "#fit model\n",
    "model.fit(X, y)\n",
    "\n",
    "# define new data \n",
    "yhat = model.predict(df_X_test)\n",
    "yhat"
   ]
  },
  {
   "cell_type": "code",
   "execution_count": 575,
   "metadata": {},
   "outputs": [
    {
     "name": "stdout",
     "output_type": "stream",
     "text": [
      "Prediction: 14.280901405595177 vs. Actual: [13]\n",
      "Prediction: 14.549039544458006 vs. Actual: [14]\n",
      "Prediction: 14.455587490901197 vs. Actual: [17]\n",
      "Prediction: 14.679035939953552 vs. Actual: [19]\n",
      "Prediction: 14.723725629764024 vs. Actual: [7]\n",
      "Prediction: 15.999363264588359 vs. Actual: [19]\n",
      "Prediction: 16.304045745389928 vs. Actual: [35]\n",
      "Prediction: 16.084669970273435 vs. Actual: [8]\n",
      "Prediction: 14.504349854647534 vs. Actual: [13]\n",
      "Prediction: 14.679035939953552 vs. Actual: [24]\n",
      "Prediction: 12.915884391149898 vs. Actual: [14]\n",
      "Prediction: 12.213067375989958 vs. Actual: [15]\n",
      "Prediction: 12.651818926222937 vs. Actual: [7]\n",
      "Prediction: 10.803360671734207 vs. Actual: [14]\n",
      "Prediction: 11.68086377220017 vs. Actual: [7]\n",
      "Prediction: 12.74119830584388 vs. Actual: [10]\n",
      "Prediction: 12.168377686179486 vs. Actual: [12]\n",
      "Prediction: 13.882766871236802 vs. Actual: [10]\n",
      "Prediction: 14.987791094690985 vs. Actual: [16]\n",
      "Prediction: 16.304045745389928 vs. Actual: [5]\n"
     ]
    },
    {
     "data": {
      "text/plain": [
       "[<matplotlib.lines.Line2D at 0x168385e1fa0>]"
      ]
     },
     "execution_count": 575,
     "metadata": {},
     "output_type": "execute_result"
    },
    {
     "data": {
      "image/png": "[encoded data removed]",
      "text/plain": [
       "<Figure size 432x288 with 1 Axes>"
      ]
     },
     "metadata": {
      "needs_background": "light"
     },
     "output_type": "display_data"
    }
   ],
   "source": [
    "for i in range(len(df_y_test)):\n",
    "    print(\"Prediction:\", yhat[i], \"vs. Actual:\", df_y_test[i])\n",
    "\n",
    "plt.plot(yhat)\n",
    "plt.plot(df_y_test)"
   ]
  },
  {
   "cell_type": "code",
   "execution_count": 576,
   "metadata": {},
   "outputs": [
    {
     "name": "stdout",
     "output_type": "stream",
     "text": [
      "For LASSO MODEL \n",
      "Mean absolute error is: 4.676729289872986 \n",
      " Mean squared error is: 41.21147354872457 \n",
      " R-squared score is: 0.09120737529688361\n"
     ]
    }
   ],
   "source": [
    "print(\"For LASSO MODEL\", '\\n'\n",
    "      \"Mean absolute error is:\", mean_absolute_error(df_y_test, yhat), '\\n',\n",
    "      \"Mean squared error is:\", mean_squared_error(df_y_test, yhat), '\\n',\n",
    "      \"R-squared score is:\", r2_score(df_y_test, yhat))"
   ]
  },
  {
   "cell_type": "markdown",
   "metadata": {},
   "source": [
    "## Ridge Regression Model"
   ]
  },
  {
   "cell_type": "code",
   "execution_count": 577,
   "metadata": {},
   "outputs": [
    {
     "name": "stdout",
     "output_type": "stream",
     "text": [
      "Mean MAE: 4.056 (1.183)\n"
     ]
    }
   ],
   "source": [
    "# evaluate an ridge regression model on the dataset\n",
    "from numpy import mean\n",
    "from numpy import std\n",
    "from numpy import absolute\n",
    "from pandas import read_csv\n",
    "from sklearn.model_selection import cross_val_score\n",
    "from sklearn.model_selection import RepeatedKFold\n",
    "from sklearn.linear_model import Ridge\n",
    "\n",
    "data = df.values\n",
    "X, y = data[:, :-1], data[:, -1]\n",
    "# define model\n",
    "model = Ridge(alpha=1.0)\n",
    "# define model evaluation method\n",
    "cv = RepeatedKFold(n_splits=10, n_repeats=3, random_state=1)\n",
    "# evaluate model\n",
    "scores = cross_val_score(model, X, y, scoring='neg_mean_absolute_error', cv=cv, n_jobs=-1)\n",
    "# force scores to be positive\n",
    "scores = absolute(scores)\n",
    "print('Mean MAE: %.3f (%.3f)' % (mean(scores), std(scores)))"
   ]
  },
  {
   "cell_type": "code",
   "execution_count": 578,
   "metadata": {},
   "outputs": [
    {
     "data": {
      "text/plain": [
       "array([14.05024789, 14.29698649, 17.53351548, 16.80640846, 12.87588858,\n",
       "       20.76224764, 18.47665755, 11.69255041, 14.42570603, 18.60075332,\n",
       "       14.01372159,  9.23016572, 13.02982294, 10.01407866,  6.01363757,\n",
       "        8.8286562 , 13.03055789, 12.57287936, 17.74899838, 11.90152173])"
      ]
     },
     "execution_count": 578,
     "metadata": {},
     "output_type": "execute_result"
    }
   ],
   "source": [
    "data = df.values\n",
    "X, y = data[:, :-1], data[:, -1]\n",
    "#define model \n",
    "model = Ridge(alpha=1.0)\n",
    "\n",
    "#fit model\n",
    "model.fit(X, y)\n",
    "\n",
    "# define new data \n",
    "ridge_yhat = model.predict(df_X_test)\n",
    "ridge_yhat"
   ]
  },
  {
   "cell_type": "code",
   "execution_count": 579,
   "metadata": {},
   "outputs": [
    {
     "name": "stdout",
     "output_type": "stream",
     "text": [
      "Prediction: 14.050247894569207 vs. Actual: [13]\n",
      "Prediction: 14.296986494911387 vs. Actual: [14]\n",
      "Prediction: 17.53351547825778 vs. Actual: [17]\n",
      "Prediction: 16.80640845843265 vs. Actual: [19]\n",
      "Prediction: 12.875888579451747 vs. Actual: [7]\n",
      "Prediction: 20.762247637516232 vs. Actual: [19]\n",
      "Prediction: 18.476657552854558 vs. Actual: [35]\n",
      "Prediction: 11.692550406779901 vs. Actual: [8]\n",
      "Prediction: 14.425706033539353 vs. Actual: [13]\n",
      "Prediction: 18.600753316502242 vs. Actual: [24]\n",
      "Prediction: 14.013721590298612 vs. Actual: [14]\n",
      "Prediction: 9.230165719083097 vs. Actual: [15]\n",
      "Prediction: 13.029822944850903 vs. Actual: [7]\n",
      "Prediction: 10.0140786628669 vs. Actual: [14]\n",
      "Prediction: 6.013637569523448 vs. Actual: [7]\n",
      "Prediction: 8.828656199997415 vs. Actual: [10]\n",
      "Prediction: 13.030557887362097 vs. Actual: [12]\n",
      "Prediction: 12.572879355181048 vs. Actual: [10]\n",
      "Prediction: 17.74899837796856 vs. Actual: [16]\n",
      "Prediction: 11.901521733279026 vs. Actual: [5]\n"
     ]
    },
    {
     "data": {
      "text/plain": [
       "[<matplotlib.lines.Line2D at 0x168386461f0>]"
      ]
     },
     "execution_count": 579,
     "metadata": {},
     "output_type": "execute_result"
    },
    {
     "data": {
      "image/png": "[encoded data removed]",
      "text/plain": [
       "<Figure size 432x288 with 1 Axes>"
      ]
     },
     "metadata": {
      "needs_background": "light"
     },
     "output_type": "display_data"
    }
   ],
   "source": [
    "for i in range(len(df_y_test)):\n",
    "    print(\"Prediction:\", ridge_yhat[i], \"vs. Actual:\", df_y_test[i])\n",
    "\n",
    "plt.plot(ridge_yhat)\n",
    "plt.plot(df_y_test)"
   ]
  },
  {
   "cell_type": "code",
   "execution_count": 580,
   "metadata": {},
   "outputs": [
    {
     "name": "stdout",
     "output_type": "stream",
     "text": [
      "For RIDGE MODEL \n",
      "Mean absolute error is: 3.448214346735277 \n",
      " Mean squared error is: 25.40068930733076 \n",
      " R-squared score is: 0.4398657190069847\n"
     ]
    }
   ],
   "source": [
    "print(\"For RIDGE MODEL\", '\\n'\n",
    "      \"Mean absolute error is:\", mean_absolute_error(df_y_test, ridge_yhat), '\\n',\n",
    "      \"Mean squared error is:\", mean_squared_error(df_y_test, ridge_yhat), '\\n',\n",
    "      \"R-squared score is:\", r2_score(df_y_test, ridge_yhat))"
   ]
  },
  {
   "cell_type": "markdown",
   "metadata": {},
   "source": [
    "## Random Forest Model"
   ]
  },
  {
   "cell_type": "code",
   "execution_count": 581,
   "metadata": {},
   "outputs": [
    {
     "name": "stdout",
     "output_type": "stream",
     "text": [
      "0.23.1\n"
     ]
    }
   ],
   "source": [
    "# check scikit-learn version\n",
    "import sklearn\n",
    "print(sklearn.__version__)"
   ]
  },
  {
   "cell_type": "markdown",
   "metadata": {},
   "source": [
    "- The scikit-learn library makes the MAE negative so that it is maximized instead of minimized. This means that larger negative MAE are better and a perfect model has a MAE of 0."
   ]
  },
  {
   "cell_type": "code",
   "execution_count": 582,
   "metadata": {},
   "outputs": [
    {
     "name": "stdout",
     "output_type": "stream",
     "text": [
      "MAE: 3.684 (1.102)\n"
     ]
    }
   ],
   "source": [
    "# evaluate random forest ensemble for regression\n",
    "from numpy import mean\n",
    "from numpy import std\n",
    "from sklearn.datasets import make_regression\n",
    "from sklearn.model_selection import cross_val_score\n",
    "from sklearn.model_selection import RepeatedKFold\n",
    "from sklearn.ensemble import RandomForestRegressor\n",
    "\n",
    "data = df.values\n",
    "X, y = data[:, :-1], data[:, -1]\n",
    "# define the model\n",
    "model = RandomForestRegressor()\n",
    "# evaluate the model\n",
    "cv = RepeatedKFold(n_splits=10, n_repeats=3, random_state=1)\n",
    "n_scores = cross_val_score(model, X, y, scoring='neg_mean_absolute_error', cv=cv, n_jobs=-1, error_score='raise')\n",
    "scores = absolute(n_scores)\n",
    "# report performance\n",
    "print('MAE: %.3f (%.3f)' % (mean(scores), std(scores)))"
   ]
  },
  {
   "cell_type": "code",
   "execution_count": 583,
   "metadata": {},
   "outputs": [
    {
     "data": {
      "text/plain": [
       "array([14.06, 12.19, 19.23, 18.08,  8.35, 20.04, 28.87,  8.94, 12.85,\n",
       "       21.48, 12.76, 14.  , 10.15, 12.73,  7.02,  9.85, 12.83,  9.37,\n",
       "       17.09,  4.82])"
      ]
     },
     "execution_count": 583,
     "metadata": {},
     "output_type": "execute_result"
    }
   ],
   "source": [
    "# Making predictions\n",
    "# fit the model on the whole dataset\n",
    "model.fit(X, y)\n",
    "\n",
    "# putting new row from test dataset\n",
    "random_yhat = model.predict(df_X_test)\n",
    "random_yhat"
   ]
  },
  {
   "cell_type": "code",
   "execution_count": 584,
   "metadata": {},
   "outputs": [
    {
     "name": "stdout",
     "output_type": "stream",
     "text": [
      "Prediction: 14.06 vs. Actual: [13]\n",
      "Prediction: 12.19 vs. Actual: [14]\n",
      "Prediction: 19.23 vs. Actual: [17]\n",
      "Prediction: 18.08 vs. Actual: [19]\n",
      "Prediction: 8.35 vs. Actual: [7]\n",
      "Prediction: 20.04 vs. Actual: [19]\n",
      "Prediction: 28.87 vs. Actual: [35]\n",
      "Prediction: 8.94 vs. Actual: [8]\n",
      "Prediction: 12.85 vs. Actual: [13]\n",
      "Prediction: 21.48 vs. Actual: [24]\n",
      "Prediction: 12.76 vs. Actual: [14]\n",
      "Prediction: 14.0 vs. Actual: [15]\n",
      "Prediction: 10.15 vs. Actual: [7]\n",
      "Prediction: 12.73 vs. Actual: [14]\n",
      "Prediction: 7.02 vs. Actual: [7]\n",
      "Prediction: 9.85 vs. Actual: [10]\n",
      "Prediction: 12.83 vs. Actual: [12]\n",
      "Prediction: 9.37 vs. Actual: [10]\n",
      "Prediction: 17.09 vs. Actual: [16]\n",
      "Prediction: 4.82 vs. Actual: [5]\n"
     ]
    },
    {
     "data": {
      "text/plain": [
       "[<matplotlib.lines.Line2D at 0x168386a8f10>]"
      ]
     },
     "execution_count": 584,
     "metadata": {},
     "output_type": "execute_result"
    },
    {
     "data": {
      "image/png": "[encoded data removed]",
      "text/plain": [
       "<Figure size 432x288 with 1 Axes>"
      ]
     },
     "metadata": {
      "needs_background": "light"
     },
     "output_type": "display_data"
    }
   ],
   "source": [
    "for i in range(len(df_y_test)):\n",
    "    print(\"Prediction:\", random_yhat[i], \"vs. Actual:\", df_y_test[i])\n",
    "\n",
    "plt.plot(random_yhat)\n",
    "plt.plot(df_y_test)"
   ]
  },
  {
   "cell_type": "code",
   "execution_count": 585,
   "metadata": {},
   "outputs": [
    {
     "name": "stdout",
     "output_type": "stream",
     "text": [
      "For RANDOM FOREST MODEL \n",
      "Mean absolute error is: 1.3855000000000002 \n",
      " Mean squared error is: 3.7179349999999998 \n",
      " R-squared score is: 0.9180123490820883\n"
     ]
    }
   ],
   "source": [
    "print(\"For RANDOM FOREST MODEL\", '\\n'\n",
    "      \"Mean absolute error is:\", mean_absolute_error(df_y_test, random_yhat), '\\n',\n",
    "      \"Mean squared error is:\", mean_squared_error(df_y_test, random_yhat), '\\n',\n",
    "      \"R-squared score is:\", r2_score(df_y_test, random_yhat))"
   ]
  }
 ],
 "metadata": {
  "kernelspec": {
   "display_name": "Python 3",
   "language": "python",
   "name": "python3"
  },
  "language_info": {
   "codemirror_mode": {
    "name": "ipython",
    "version": 3
   },
   "file_extension": ".py",
   "mimetype": "text/x-python",
   "name": "python",
   "nbconvert_exporter": "python",
   "pygments_lexer": "ipython3",
   "version": "3.8.3"
  }
 },
 "nbformat": 4,
 "nbformat_minor": 4
}
