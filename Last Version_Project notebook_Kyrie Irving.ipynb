{
 "cells": [
  {
   "cell_type": "code",
   "execution_count": 1020,
   "metadata": {},
   "outputs": [],
   "source": [
    "# 1 - Import necessary libraries\n",
    "import pandas as pd\n",
    "import os\n",
    "import random as rd\n",
    "import statsmodels as sm\n",
    "import numpy as np\n",
    "import matplotlib.pyplot as plt"
   ]
  },
  {
   "cell_type": "code",
   "execution_count": 1021,
   "metadata": {},
   "outputs": [
    {
     "name": "stdout",
     "output_type": "stream",
     "text": [
      "nt\n"
     ]
    },
    {
     "data": {
      "text/plain": [
       "'C:\\\\Users\\\\baris\\\\Desktop\\\\DATA 602\\\\Project\\\\Yahoo_fantasy_basketball_analyzer-master\\\\Yahoo_fantasy_basketball_analyzer-master\\\\yahoo_fantasy_basketball_analyzer\\\\machine_learning\\\\data\\\\2018\\\\player'"
      ]
     },
     "execution_count": 1021,
     "metadata": {},
     "output_type": "execute_result"
    }
   ],
   "source": [
    "print(os.name)\n",
    "os.getcwd()"
   ]
  },
  {
   "cell_type": "code",
   "execution_count": 1022,
   "metadata": {},
   "outputs": [
    {
     "data": {
      "text/plain": [
       "530"
      ]
     },
     "execution_count": 1022,
     "metadata": {},
     "output_type": "execute_result"
    }
   ],
   "source": [
    "files = os.listdir('C:/Users/baris/Desktop/DATA 602/Project/Yahoo_fantasy_basketball_analyzer-master/Yahoo_fantasy_basketball_analyzer-master/yahoo_fantasy_basketball_analyzer/machine_learning/data/2018/player')\n",
    "file_list = []\n",
    "for element in files:\n",
    "    if element.endswith(\".csv\"):\n",
    "        file_list.append(element) \n",
    "\n",
    "len(file_list)"
   ]
  },
  {
   "cell_type": "code",
   "execution_count": 1062,
   "metadata": {},
   "outputs": [
    {
     "data": {
      "text/plain": [
       "'Kyrie Irving.csv'"
      ]
     },
     "execution_count": 1062,
     "metadata": {},
     "output_type": "execute_result"
    }
   ],
   "source": [
    "# choose a random player to analyze\n",
    "x = rd.randint(0,530)\n",
    "file_list[x]\n"
   ]
  },
  {
   "cell_type": "code",
   "execution_count": 1063,
   "metadata": {},
   "outputs": [
    {
     "name": "stdout",
     "output_type": "stream",
     "text": [
      "<class 'pandas.core.frame.DataFrame'>\n",
      "RangeIndex: 67 entries, 0 to 66\n",
      "Data columns (total 9 columns):\n",
      " #   Column  Non-Null Count  Dtype  \n",
      "---  ------  --------------  -----  \n",
      " 0   MP      67 non-null     object \n",
      " 1   FG%     67 non-null     float64\n",
      " 2   FT%     54 non-null     float64\n",
      " 3   TRB     67 non-null     int64  \n",
      " 4   AST     67 non-null     int64  \n",
      " 5   STL     67 non-null     int64  \n",
      " 6   BLK     67 non-null     int64  \n",
      " 7   TOV     67 non-null     int64  \n",
      " 8   PTS     67 non-null     int64  \n",
      "dtypes: float64(2), int64(6), object(1)\n",
      "memory usage: 4.8+ KB\n"
     ]
    }
   ],
   "source": [
    "path = \"C:/Users/baris/Desktop/DATA 602/Project/Yahoo_fantasy_basketball_analyzer-master/Yahoo_fantasy_basketball_analyzer-master/yahoo_fantasy_basketball_analyzer/machine_learning/data/2018/player\"\n",
    "df = pd.read_csv(path+\"/\"+str(file_list[x]), usecols=[\"MP\", \"FG%\", \"PTS\", \"FT%\", \"TRB\", \"AST\", \"STL\", \"BLK\", \"TOV\"])\n",
    "df.info()"
   ]
  },
  {
   "cell_type": "code",
   "execution_count": 1064,
   "metadata": {},
   "outputs": [
    {
     "name": "stdout",
     "output_type": "stream",
     "text": [
      "<class 'pandas.core.frame.DataFrame'>\n",
      "RangeIndex: 67 entries, 0 to 66\n",
      "Data columns (total 9 columns):\n",
      " #   Column  Non-Null Count  Dtype  \n",
      "---  ------  --------------  -----  \n",
      " 0   MP      67 non-null     object \n",
      " 1   FG%     67 non-null     float64\n",
      " 2   FT%     67 non-null     float64\n",
      " 3   TRB     67 non-null     int64  \n",
      " 4   AST     67 non-null     int64  \n",
      " 5   STL     67 non-null     int64  \n",
      " 6   BLK     67 non-null     int64  \n",
      " 7   TOV     67 non-null     int64  \n",
      " 8   PTS     67 non-null     int64  \n",
      "dtypes: float64(2), int64(6), object(1)\n",
      "memory usage: 4.8+ KB\n"
     ]
    }
   ],
   "source": [
    "# Putting zero(0) value for non-values\n",
    "df = df.fillna(0)\n",
    "df.info()  "
   ]
  },
  {
   "cell_type": "markdown",
   "metadata": {},
   "source": [
    "**Explanation of the abbreviations:**\n",
    "- MP = Minutes Played\n",
    "- FG% = Field Goal Percentage \n",
    "- FT% = Free Throw Percentage \n",
    "- TRB = Total Rebound \n",
    "- AST = Assist \n",
    "- STL = Steal \n",
    "- BLK = Block \n",
    "- TOV = Turnover\n",
    "- PTS = Points"
   ]
  },
  {
   "cell_type": "code",
   "execution_count": 1065,
   "metadata": {},
   "outputs": [
    {
     "data": {
      "text/html": [
       "<div>\n",
       "<style scoped>\n",
       "    .dataframe tbody tr th:only-of-type {\n",
       "        vertical-align: middle;\n",
       "    }\n",
       "\n",
       "    .dataframe tbody tr th {\n",
       "        vertical-align: top;\n",
       "    }\n",
       "\n",
       "    .dataframe thead th {\n",
       "        text-align: right;\n",
       "    }\n",
       "</style>\n",
       "<table border=\"1\" class=\"dataframe\">\n",
       "  <thead>\n",
       "    <tr style=\"text-align: right;\">\n",
       "      <th></th>\n",
       "      <th>MP</th>\n",
       "      <th>FG%</th>\n",
       "      <th>FT%</th>\n",
       "      <th>TRB</th>\n",
       "      <th>AST</th>\n",
       "      <th>STL</th>\n",
       "      <th>BLK</th>\n",
       "      <th>TOV</th>\n",
       "      <th>PTS</th>\n",
       "    </tr>\n",
       "  </thead>\n",
       "  <tbody>\n",
       "    <tr>\n",
       "      <th>0</th>\n",
       "      <td>29:00</td>\n",
       "      <td>0.143</td>\n",
       "      <td>1.000</td>\n",
       "      <td>4</td>\n",
       "      <td>7</td>\n",
       "      <td>0</td>\n",
       "      <td>0</td>\n",
       "      <td>3</td>\n",
       "      <td>7</td>\n",
       "    </tr>\n",
       "    <tr>\n",
       "      <th>1</th>\n",
       "      <td>35:56</td>\n",
       "      <td>0.500</td>\n",
       "      <td>0.000</td>\n",
       "      <td>4</td>\n",
       "      <td>6</td>\n",
       "      <td>0</td>\n",
       "      <td>1</td>\n",
       "      <td>1</td>\n",
       "      <td>21</td>\n",
       "    </tr>\n",
       "    <tr>\n",
       "      <th>2</th>\n",
       "      <td>32:06</td>\n",
       "      <td>0.313</td>\n",
       "      <td>0.857</td>\n",
       "      <td>1</td>\n",
       "      <td>5</td>\n",
       "      <td>2</td>\n",
       "      <td>0</td>\n",
       "      <td>2</td>\n",
       "      <td>16</td>\n",
       "    </tr>\n",
       "    <tr>\n",
       "      <th>3</th>\n",
       "      <td>34:01</td>\n",
       "      <td>0.526</td>\n",
       "      <td>0.000</td>\n",
       "      <td>8</td>\n",
       "      <td>5</td>\n",
       "      <td>2</td>\n",
       "      <td>1</td>\n",
       "      <td>4</td>\n",
       "      <td>22</td>\n",
       "    </tr>\n",
       "    <tr>\n",
       "      <th>4</th>\n",
       "      <td>33:33</td>\n",
       "      <td>0.462</td>\n",
       "      <td>0.250</td>\n",
       "      <td>5</td>\n",
       "      <td>5</td>\n",
       "      <td>0</td>\n",
       "      <td>0</td>\n",
       "      <td>3</td>\n",
       "      <td>15</td>\n",
       "    </tr>\n",
       "  </tbody>\n",
       "</table>\n",
       "</div>"
      ],
      "text/plain": [
       "      MP    FG%    FT%  TRB  AST  STL  BLK  TOV  PTS\n",
       "0  29:00  0.143  1.000    4    7    0    0    3    7\n",
       "1  35:56  0.500  0.000    4    6    0    1    1   21\n",
       "2  32:06  0.313  0.857    1    5    2    0    2   16\n",
       "3  34:01  0.526  0.000    8    5    2    1    4   22\n",
       "4  33:33  0.462  0.250    5    5    0    0    3   15"
      ]
     },
     "execution_count": 1065,
     "metadata": {},
     "output_type": "execute_result"
    }
   ],
   "source": [
    "df.head()"
   ]
  },
  {
   "cell_type": "code",
   "execution_count": 1066,
   "metadata": {},
   "outputs": [],
   "source": [
    "df['MP'] = df['MP'].astype(str).str[0:2].str.replace(\":\",\"\")\n",
    "# df['MP'].str.split(\":\")[0][0]\n"
   ]
  },
  {
   "cell_type": "code",
   "execution_count": 1067,
   "metadata": {},
   "outputs": [
    {
     "data": {
      "text/plain": [
       "0     29\n",
       "1     35\n",
       "2     32\n",
       "3     34\n",
       "4     33\n",
       "      ..\n",
       "62    35\n",
       "63    32\n",
       "64    32\n",
       "65    27\n",
       "66    35\n",
       "Name: MP, Length: 67, dtype: int64"
      ]
     },
     "execution_count": 1067,
     "metadata": {},
     "output_type": "execute_result"
    }
   ],
   "source": [
    "# getting only minutes and removing seconds from MP(minutes played) column\n",
    "# df['MP'] = df['MP'].astype(str).str[0:2]\n",
    "df['MP'] = df['MP'].apply(int)\n",
    "df['MP']"
   ]
  },
  {
   "cell_type": "code",
   "execution_count": 1068,
   "metadata": {
    "scrolled": true
   },
   "outputs": [
    {
     "data": {
      "text/html": [
       "<div>\n",
       "<style scoped>\n",
       "    .dataframe tbody tr th:only-of-type {\n",
       "        vertical-align: middle;\n",
       "    }\n",
       "\n",
       "    .dataframe tbody tr th {\n",
       "        vertical-align: top;\n",
       "    }\n",
       "\n",
       "    .dataframe thead th {\n",
       "        text-align: right;\n",
       "    }\n",
       "</style>\n",
       "<table border=\"1\" class=\"dataframe\">\n",
       "  <thead>\n",
       "    <tr style=\"text-align: right;\">\n",
       "      <th></th>\n",
       "      <th>MP</th>\n",
       "      <th>FG%</th>\n",
       "      <th>FT%</th>\n",
       "      <th>TRB</th>\n",
       "      <th>AST</th>\n",
       "      <th>STL</th>\n",
       "      <th>BLK</th>\n",
       "      <th>TOV</th>\n",
       "      <th>PTS</th>\n",
       "    </tr>\n",
       "  </thead>\n",
       "  <tbody>\n",
       "    <tr>\n",
       "      <th>0</th>\n",
       "      <td>29</td>\n",
       "      <td>0.143</td>\n",
       "      <td>1.000</td>\n",
       "      <td>4</td>\n",
       "      <td>7</td>\n",
       "      <td>0</td>\n",
       "      <td>0</td>\n",
       "      <td>3</td>\n",
       "      <td>7</td>\n",
       "    </tr>\n",
       "    <tr>\n",
       "      <th>1</th>\n",
       "      <td>35</td>\n",
       "      <td>0.500</td>\n",
       "      <td>0.000</td>\n",
       "      <td>4</td>\n",
       "      <td>6</td>\n",
       "      <td>0</td>\n",
       "      <td>1</td>\n",
       "      <td>1</td>\n",
       "      <td>21</td>\n",
       "    </tr>\n",
       "    <tr>\n",
       "      <th>2</th>\n",
       "      <td>32</td>\n",
       "      <td>0.313</td>\n",
       "      <td>0.857</td>\n",
       "      <td>1</td>\n",
       "      <td>5</td>\n",
       "      <td>2</td>\n",
       "      <td>0</td>\n",
       "      <td>2</td>\n",
       "      <td>16</td>\n",
       "    </tr>\n",
       "    <tr>\n",
       "      <th>3</th>\n",
       "      <td>34</td>\n",
       "      <td>0.526</td>\n",
       "      <td>0.000</td>\n",
       "      <td>8</td>\n",
       "      <td>5</td>\n",
       "      <td>2</td>\n",
       "      <td>1</td>\n",
       "      <td>4</td>\n",
       "      <td>22</td>\n",
       "    </tr>\n",
       "    <tr>\n",
       "      <th>4</th>\n",
       "      <td>33</td>\n",
       "      <td>0.462</td>\n",
       "      <td>0.250</td>\n",
       "      <td>5</td>\n",
       "      <td>5</td>\n",
       "      <td>0</td>\n",
       "      <td>0</td>\n",
       "      <td>3</td>\n",
       "      <td>15</td>\n",
       "    </tr>\n",
       "    <tr>\n",
       "      <th>...</th>\n",
       "      <td>...</td>\n",
       "      <td>...</td>\n",
       "      <td>...</td>\n",
       "      <td>...</td>\n",
       "      <td>...</td>\n",
       "      <td>...</td>\n",
       "      <td>...</td>\n",
       "      <td>...</td>\n",
       "      <td>...</td>\n",
       "    </tr>\n",
       "    <tr>\n",
       "      <th>62</th>\n",
       "      <td>35</td>\n",
       "      <td>0.500</td>\n",
       "      <td>1.000</td>\n",
       "      <td>2</td>\n",
       "      <td>5</td>\n",
       "      <td>3</td>\n",
       "      <td>0</td>\n",
       "      <td>1</td>\n",
       "      <td>30</td>\n",
       "    </tr>\n",
       "    <tr>\n",
       "      <th>63</th>\n",
       "      <td>32</td>\n",
       "      <td>0.368</td>\n",
       "      <td>1.000</td>\n",
       "      <td>8</td>\n",
       "      <td>3</td>\n",
       "      <td>2</td>\n",
       "      <td>0</td>\n",
       "      <td>6</td>\n",
       "      <td>25</td>\n",
       "    </tr>\n",
       "    <tr>\n",
       "      <th>64</th>\n",
       "      <td>32</td>\n",
       "      <td>0.421</td>\n",
       "      <td>0.800</td>\n",
       "      <td>1</td>\n",
       "      <td>4</td>\n",
       "      <td>1</td>\n",
       "      <td>0</td>\n",
       "      <td>2</td>\n",
       "      <td>23</td>\n",
       "    </tr>\n",
       "    <tr>\n",
       "      <th>65</th>\n",
       "      <td>27</td>\n",
       "      <td>0.500</td>\n",
       "      <td>1.000</td>\n",
       "      <td>3</td>\n",
       "      <td>6</td>\n",
       "      <td>0</td>\n",
       "      <td>0</td>\n",
       "      <td>0</td>\n",
       "      <td>17</td>\n",
       "    </tr>\n",
       "    <tr>\n",
       "      <th>66</th>\n",
       "      <td>35</td>\n",
       "      <td>0.474</td>\n",
       "      <td>1.000</td>\n",
       "      <td>5</td>\n",
       "      <td>6</td>\n",
       "      <td>1</td>\n",
       "      <td>1</td>\n",
       "      <td>3</td>\n",
       "      <td>23</td>\n",
       "    </tr>\n",
       "  </tbody>\n",
       "</table>\n",
       "<p>67 rows × 9 columns</p>\n",
       "</div>"
      ],
      "text/plain": [
       "    MP    FG%    FT%  TRB  AST  STL  BLK  TOV  PTS\n",
       "0   29  0.143  1.000    4    7    0    0    3    7\n",
       "1   35  0.500  0.000    4    6    0    1    1   21\n",
       "2   32  0.313  0.857    1    5    2    0    2   16\n",
       "3   34  0.526  0.000    8    5    2    1    4   22\n",
       "4   33  0.462  0.250    5    5    0    0    3   15\n",
       "..  ..    ...    ...  ...  ...  ...  ...  ...  ...\n",
       "62  35  0.500  1.000    2    5    3    0    1   30\n",
       "63  32  0.368  1.000    8    3    2    0    6   25\n",
       "64  32  0.421  0.800    1    4    1    0    2   23\n",
       "65  27  0.500  1.000    3    6    0    0    0   17\n",
       "66  35  0.474  1.000    5    6    1    1    3   23\n",
       "\n",
       "[67 rows x 9 columns]"
      ]
     },
     "execution_count": 1068,
     "metadata": {},
     "output_type": "execute_result"
    }
   ],
   "source": [
    "# print(file_list[x])\n",
    "df"
   ]
  },
  {
   "cell_type": "code",
   "execution_count": 1069,
   "metadata": {},
   "outputs": [
    {
     "data": {
      "text/html": [
       "<div>\n",
       "<style scoped>\n",
       "    .dataframe tbody tr th:only-of-type {\n",
       "        vertical-align: middle;\n",
       "    }\n",
       "\n",
       "    .dataframe tbody tr th {\n",
       "        vertical-align: top;\n",
       "    }\n",
       "\n",
       "    .dataframe thead th {\n",
       "        text-align: right;\n",
       "    }\n",
       "</style>\n",
       "<table border=\"1\" class=\"dataframe\">\n",
       "  <thead>\n",
       "    <tr style=\"text-align: right;\">\n",
       "      <th></th>\n",
       "      <th>MP</th>\n",
       "      <th>FG%</th>\n",
       "      <th>FT%</th>\n",
       "      <th>TRB</th>\n",
       "      <th>AST</th>\n",
       "      <th>STL</th>\n",
       "      <th>BLK</th>\n",
       "      <th>TOV</th>\n",
       "      <th>PTS</th>\n",
       "    </tr>\n",
       "  </thead>\n",
       "  <tbody>\n",
       "    <tr>\n",
       "      <th>0</th>\n",
       "      <td>29</td>\n",
       "      <td>0.143</td>\n",
       "      <td>1.000</td>\n",
       "      <td>4</td>\n",
       "      <td>7</td>\n",
       "      <td>0</td>\n",
       "      <td>0</td>\n",
       "      <td>3</td>\n",
       "      <td>7</td>\n",
       "    </tr>\n",
       "    <tr>\n",
       "      <th>1</th>\n",
       "      <td>35</td>\n",
       "      <td>0.500</td>\n",
       "      <td>0.000</td>\n",
       "      <td>4</td>\n",
       "      <td>6</td>\n",
       "      <td>0</td>\n",
       "      <td>1</td>\n",
       "      <td>1</td>\n",
       "      <td>21</td>\n",
       "    </tr>\n",
       "    <tr>\n",
       "      <th>2</th>\n",
       "      <td>32</td>\n",
       "      <td>0.313</td>\n",
       "      <td>0.857</td>\n",
       "      <td>1</td>\n",
       "      <td>5</td>\n",
       "      <td>2</td>\n",
       "      <td>0</td>\n",
       "      <td>2</td>\n",
       "      <td>16</td>\n",
       "    </tr>\n",
       "    <tr>\n",
       "      <th>3</th>\n",
       "      <td>34</td>\n",
       "      <td>0.526</td>\n",
       "      <td>0.000</td>\n",
       "      <td>8</td>\n",
       "      <td>5</td>\n",
       "      <td>2</td>\n",
       "      <td>1</td>\n",
       "      <td>4</td>\n",
       "      <td>22</td>\n",
       "    </tr>\n",
       "    <tr>\n",
       "      <th>4</th>\n",
       "      <td>33</td>\n",
       "      <td>0.462</td>\n",
       "      <td>0.250</td>\n",
       "      <td>5</td>\n",
       "      <td>5</td>\n",
       "      <td>0</td>\n",
       "      <td>0</td>\n",
       "      <td>3</td>\n",
       "      <td>15</td>\n",
       "    </tr>\n",
       "  </tbody>\n",
       "</table>\n",
       "</div>"
      ],
      "text/plain": [
       "   MP    FG%    FT%  TRB  AST  STL  BLK  TOV  PTS\n",
       "0  29  0.143  1.000    4    7    0    0    3    7\n",
       "1  35  0.500  0.000    4    6    0    1    1   21\n",
       "2  32  0.313  0.857    1    5    2    0    2   16\n",
       "3  34  0.526  0.000    8    5    2    1    4   22\n",
       "4  33  0.462  0.250    5    5    0    0    3   15"
      ]
     },
     "execution_count": 1069,
     "metadata": {},
     "output_type": "execute_result"
    }
   ],
   "source": [
    "df.head()"
   ]
  },
  {
   "cell_type": "markdown",
   "metadata": {},
   "source": [
    "# Hypothesis \n",
    "\n",
    "H0: There is no difference in the accuracy or performance among the models selected\n",
    "\n",
    "H1: There is a difference in the accuracy or performance among the models selected\n",
    "- We set our confidence level as 95%. If the Z-score calculated from p-value is smaller than 1.96, we cannot deny H0. However, if it is greater than 1.95, we will deny H0 and accept H1.,"
   ]
  },
  {
   "cell_type": "markdown",
   "metadata": {},
   "source": [
    "## Linear Regression Model "
   ]
  },
  {
   "cell_type": "code",
   "execution_count": 1070,
   "metadata": {},
   "outputs": [
    {
     "name": "stdout",
     "output_type": "stream",
     "text": [
      "Coefficients: \n",
      " [[1.00071114]]\n",
      "Mean squared error: 43.36\n",
      "Coefficient of determination: 0.33\n"
     ]
    },
    {
     "data": {
      "image/png": "[encoded data removed]",
      "text/plain": [
       "<Figure size 432x288 with 1 Axes>"
      ]
     },
     "metadata": {},
     "output_type": "display_data"
    }
   ],
   "source": [
    "import matplotlib.pyplot as plt\n",
    "import numpy as np\n",
    "from sklearn import datasets, linear_model\n",
    "from sklearn.metrics import mean_squared_error, r2_score\n",
    "\n",
    "# defining features\n",
    "df_X = df[[\"MP\"]].to_numpy()\n",
    "\n",
    "# target variable\n",
    "df_y = df[['PTS']].to_numpy()\n",
    "\n",
    "# Split the data into training/testing sets\n",
    "df_X_train = df_X[:-20]\n",
    "df_X_test = df_X[-20:]\n",
    "\n",
    "# Split the targets into training/testing sets\n",
    "df_y_train = df_y[:-20]\n",
    "df_y_test = df_y[-20:]\n",
    "\n",
    "# Create linear regression object\n",
    "regr = linear_model.LinearRegression()\n",
    "\n",
    "# Train the model using the training sets\n",
    "regr.fit(df_X_train, df_y_train)\n",
    "\n",
    "# Make predictions using the testing set\n",
    "df_y_pred = regr.predict(df_X_test)\n",
    "\n",
    "# The coefficients\n",
    "print('Coefficients: \\n', regr.coef_)\n",
    "\n",
    "# The mean squared error\n",
    "print('Mean squared error: %.2f'\n",
    "     % mean_squared_error(df_y_test, df_y_pred))\n",
    "\n",
    "# The coefficient of determination: 1 is perfect prediction\n",
    "print('Coefficient of determination: %.2f'\n",
    "     % r2_score(df_y_test, df_y_pred))\n",
    "\n",
    "# Plot outputs \n",
    "plt.scatter(df_X_test, df_y_test, color='black')\n",
    "plt.plot(df_X_test, df_y_pred, color='blue', linewidth=3)\n",
    "\n",
    "plt.xticks(())\n",
    "plt.yticks(())\n",
    "\n",
    "plt.show()"
   ]
  },
  {
   "cell_type": "code",
   "execution_count": 1071,
   "metadata": {},
   "outputs": [
    {
     "name": "stdout",
     "output_type": "stream",
     "text": [
      "For MP effect on PTS\n",
      "Coefficients: \n",
      " [[1.00071114]]\n",
      "Mean squared error: 43.36\n",
      "Coefficient of determination: 0.33\n"
     ]
    },
    {
     "data": {
      "image/png": "[encoded data removed]",
      "text/plain": [
       "<Figure size 432x288 with 1 Axes>"
      ]
     },
     "metadata": {},
     "output_type": "display_data"
    },
    {
     "name": "stdout",
     "output_type": "stream",
     "text": [
      "For FG% effect on PTS\n",
      "Coefficients: \n",
      " [[30.40860896]]\n",
      "Mean squared error: 51.56\n",
      "Coefficient of determination: 0.20\n"
     ]
    },
    {
     "data": {
      "image/png": "[encoded data removed]",
      "text/plain": [
       "<Figure size 432x288 with 1 Axes>"
      ]
     },
     "metadata": {},
     "output_type": "display_data"
    },
    {
     "name": "stdout",
     "output_type": "stream",
     "text": [
      "For PTS effect on PTS\n",
      "Coefficients: \n",
      " [[1.]]\n",
      "Mean squared error: 0.00\n",
      "Coefficient of determination: 1.00\n"
     ]
    },
    {
     "data": {
      "image/png": "[encoded data removed]",
      "text/plain": [
       "<Figure size 432x288 with 1 Axes>"
      ]
     },
     "metadata": {},
     "output_type": "display_data"
    },
    {
     "name": "stdout",
     "output_type": "stream",
     "text": [
      "For FT% effect on PTS\n",
      "Coefficients: \n",
      " [[7.33044094]]\n",
      "Mean squared error: 47.88\n",
      "Coefficient of determination: 0.26\n"
     ]
    },
    {
     "data": {
      "image/png": "[encoded data removed]",
      "text/plain": [
       "<Figure size 432x288 with 1 Axes>"
      ]
     },
     "metadata": {},
     "output_type": "display_data"
    },
    {
     "name": "stdout",
     "output_type": "stream",
     "text": [
      "For TRB effect on PTS\n",
      "Coefficients: \n",
      " [[0.51889419]]\n",
      "Mean squared error: 56.27\n",
      "Coefficient of determination: 0.13\n"
     ]
    },
    {
     "data": {
      "image/png": "[encoded data removed]",
      "text/plain": [
       "<Figure size 432x288 with 1 Axes>"
      ]
     },
     "metadata": {},
     "output_type": "display_data"
    },
    {
     "name": "stdout",
     "output_type": "stream",
     "text": [
      "For AST effect on PTS\n",
      "Coefficients: \n",
      " [[0.74725806]]\n",
      "Mean squared error: 81.91\n",
      "Coefficient of determination: -0.26\n"
     ]
    },
    {
     "data": {
      "image/png": "[encoded data removed]",
      "text/plain": [
       "<Figure size 432x288 with 1 Axes>"
      ]
     },
     "metadata": {},
     "output_type": "display_data"
    },
    {
     "name": "stdout",
     "output_type": "stream",
     "text": [
      "For STL effect on PTS\n",
      "Coefficients: \n",
      " [[0.99932908]]\n",
      "Mean squared error: 65.24\n",
      "Coefficient of determination: -0.01\n"
     ]
    },
    {
     "data": {
      "image/png": "[encoded data removed]",
      "text/plain": [
       "<Figure size 432x288 with 1 Axes>"
      ]
     },
     "metadata": {},
     "output_type": "display_data"
    },
    {
     "name": "stdout",
     "output_type": "stream",
     "text": [
      "For BLK effect on PTS\n",
      "Coefficients: \n",
      " [[3.3734375]]\n",
      "Mean squared error: 55.41\n",
      "Coefficient of determination: 0.15\n"
     ]
    },
    {
     "data": {
      "image/png": "[encoded data removed]",
      "text/plain": [
       "<Figure size 432x288 with 1 Axes>"
      ]
     },
     "metadata": {},
     "output_type": "display_data"
    },
    {
     "name": "stdout",
     "output_type": "stream",
     "text": [
      "For TOV effect on PTS\n",
      "Coefficients: \n",
      " [[1.64920071]]\n",
      "Mean squared error: 62.98\n",
      "Coefficient of determination: 0.03\n"
     ]
    },
    {
     "data": {
      "image/png": "[encoded data removed]",
      "text/plain": [
       "<Figure size 432x288 with 1 Axes>"
      ]
     },
     "metadata": {},
     "output_type": "display_data"
    }
   ],
   "source": [
    "# Checking all features one by one with FOR loop \n",
    "\n",
    "import matplotlib.pyplot as plt\n",
    "import numpy as np\n",
    "from sklearn import datasets, linear_model\n",
    "from sklearn.metrics import mean_squared_error, r2_score\n",
    "\n",
    "features = [\"MP\", \"FG%\", \"PTS\", \"FT%\", \"TRB\", \"AST\", \"STL\", \"BLK\", \"TOV\"]\n",
    "\n",
    "for element in features: \n",
    "    print(\"For\", element, \"effect on PTS\")\n",
    "    # # defining features\n",
    "    df_X = df[[element]].to_numpy()\n",
    "\n",
    "    # # target variable\n",
    "    df_y = df[['PTS']].to_numpy()\n",
    "\n",
    "    # Split the data into training/testing sets\n",
    "    df_X_train = df_X[:-20]\n",
    "    df_X_test = df_X[-20:]\n",
    "\n",
    "    # Split the targets into training/testing sets\n",
    "    df_y_train = df_y[:-20]\n",
    "    df_y_test = df_y[-20:]\n",
    "\n",
    "    # Create linear regression object\n",
    "    regr = linear_model.LinearRegression()\n",
    "\n",
    "    # Train the model using the training sets\n",
    "    regr.fit(df_X_train, df_y_train)\n",
    "\n",
    "    # Make predictions using the testing set\n",
    "    df_y_pred = regr.predict(df_X_test)\n",
    "\n",
    "    # The coefficients\n",
    "    print('Coefficients: \\n', regr.coef_)\n",
    "\n",
    "    # The mean squared error\n",
    "    print('Mean squared error: %.2f'\n",
    "         % mean_squared_error(df_y_test, df_y_pred))\n",
    "\n",
    "    # The coefficient of determination: 1 is perfect prediction\n",
    "    print('Coefficient of determination: %.2f'\n",
    "         % r2_score(df_y_test, df_y_pred))\n",
    "\n",
    "    # Plot outputs \n",
    "    plt.scatter(df_X_test, df_y_test, color='black')\n",
    "    plt.plot(df_X_test, df_y_pred, color='blue', linewidth=3)\n",
    "\n",
    "    plt.xticks(())\n",
    "    plt.yticks(())\n",
    "\n",
    "    plt.show()"
   ]
  },
  {
   "cell_type": "code",
   "execution_count": 1072,
   "metadata": {},
   "outputs": [
    {
     "name": "stdout",
     "output_type": "stream",
     "text": [
      "Coefficients: \n",
      " [[ 1.07693754 30.27293633 -0.19564291 -0.18045064]]\n",
      "Mean squared error: 28.44\n",
      "Coefficient of determination: 0.56\n"
     ]
    },
    {
     "data": {
      "text/html": [
       "<div>\n",
       "<style scoped>\n",
       "    .dataframe tbody tr th:only-of-type {\n",
       "        vertical-align: middle;\n",
       "    }\n",
       "\n",
       "    .dataframe tbody tr th {\n",
       "        vertical-align: top;\n",
       "    }\n",
       "\n",
       "    .dataframe thead th {\n",
       "        text-align: right;\n",
       "    }\n",
       "</style>\n",
       "<table border=\"1\" class=\"dataframe\">\n",
       "  <thead>\n",
       "    <tr style=\"text-align: right;\">\n",
       "      <th></th>\n",
       "      <th>MP</th>\n",
       "      <th>FG%</th>\n",
       "      <th>FT%</th>\n",
       "      <th>TRB</th>\n",
       "      <th>AST</th>\n",
       "      <th>STL</th>\n",
       "      <th>BLK</th>\n",
       "      <th>TOV</th>\n",
       "      <th>PTS</th>\n",
       "    </tr>\n",
       "  </thead>\n",
       "  <tbody>\n",
       "    <tr>\n",
       "      <th>0</th>\n",
       "      <td>29</td>\n",
       "      <td>0.143</td>\n",
       "      <td>1.000</td>\n",
       "      <td>4</td>\n",
       "      <td>7</td>\n",
       "      <td>0</td>\n",
       "      <td>0</td>\n",
       "      <td>3</td>\n",
       "      <td>7</td>\n",
       "    </tr>\n",
       "    <tr>\n",
       "      <th>1</th>\n",
       "      <td>35</td>\n",
       "      <td>0.500</td>\n",
       "      <td>0.000</td>\n",
       "      <td>4</td>\n",
       "      <td>6</td>\n",
       "      <td>0</td>\n",
       "      <td>1</td>\n",
       "      <td>1</td>\n",
       "      <td>21</td>\n",
       "    </tr>\n",
       "    <tr>\n",
       "      <th>2</th>\n",
       "      <td>32</td>\n",
       "      <td>0.313</td>\n",
       "      <td>0.857</td>\n",
       "      <td>1</td>\n",
       "      <td>5</td>\n",
       "      <td>2</td>\n",
       "      <td>0</td>\n",
       "      <td>2</td>\n",
       "      <td>16</td>\n",
       "    </tr>\n",
       "    <tr>\n",
       "      <th>3</th>\n",
       "      <td>34</td>\n",
       "      <td>0.526</td>\n",
       "      <td>0.000</td>\n",
       "      <td>8</td>\n",
       "      <td>5</td>\n",
       "      <td>2</td>\n",
       "      <td>1</td>\n",
       "      <td>4</td>\n",
       "      <td>22</td>\n",
       "    </tr>\n",
       "    <tr>\n",
       "      <th>4</th>\n",
       "      <td>33</td>\n",
       "      <td>0.462</td>\n",
       "      <td>0.250</td>\n",
       "      <td>5</td>\n",
       "      <td>5</td>\n",
       "      <td>0</td>\n",
       "      <td>0</td>\n",
       "      <td>3</td>\n",
       "      <td>15</td>\n",
       "    </tr>\n",
       "    <tr>\n",
       "      <th>...</th>\n",
       "      <td>...</td>\n",
       "      <td>...</td>\n",
       "      <td>...</td>\n",
       "      <td>...</td>\n",
       "      <td>...</td>\n",
       "      <td>...</td>\n",
       "      <td>...</td>\n",
       "      <td>...</td>\n",
       "      <td>...</td>\n",
       "    </tr>\n",
       "    <tr>\n",
       "      <th>62</th>\n",
       "      <td>35</td>\n",
       "      <td>0.500</td>\n",
       "      <td>1.000</td>\n",
       "      <td>2</td>\n",
       "      <td>5</td>\n",
       "      <td>3</td>\n",
       "      <td>0</td>\n",
       "      <td>1</td>\n",
       "      <td>30</td>\n",
       "    </tr>\n",
       "    <tr>\n",
       "      <th>63</th>\n",
       "      <td>32</td>\n",
       "      <td>0.368</td>\n",
       "      <td>1.000</td>\n",
       "      <td>8</td>\n",
       "      <td>3</td>\n",
       "      <td>2</td>\n",
       "      <td>0</td>\n",
       "      <td>6</td>\n",
       "      <td>25</td>\n",
       "    </tr>\n",
       "    <tr>\n",
       "      <th>64</th>\n",
       "      <td>32</td>\n",
       "      <td>0.421</td>\n",
       "      <td>0.800</td>\n",
       "      <td>1</td>\n",
       "      <td>4</td>\n",
       "      <td>1</td>\n",
       "      <td>0</td>\n",
       "      <td>2</td>\n",
       "      <td>23</td>\n",
       "    </tr>\n",
       "    <tr>\n",
       "      <th>65</th>\n",
       "      <td>27</td>\n",
       "      <td>0.500</td>\n",
       "      <td>1.000</td>\n",
       "      <td>3</td>\n",
       "      <td>6</td>\n",
       "      <td>0</td>\n",
       "      <td>0</td>\n",
       "      <td>0</td>\n",
       "      <td>17</td>\n",
       "    </tr>\n",
       "    <tr>\n",
       "      <th>66</th>\n",
       "      <td>35</td>\n",
       "      <td>0.474</td>\n",
       "      <td>1.000</td>\n",
       "      <td>5</td>\n",
       "      <td>6</td>\n",
       "      <td>1</td>\n",
       "      <td>1</td>\n",
       "      <td>3</td>\n",
       "      <td>23</td>\n",
       "    </tr>\n",
       "  </tbody>\n",
       "</table>\n",
       "<p>67 rows × 9 columns</p>\n",
       "</div>"
      ],
      "text/plain": [
       "    MP    FG%    FT%  TRB  AST  STL  BLK  TOV  PTS\n",
       "0   29  0.143  1.000    4    7    0    0    3    7\n",
       "1   35  0.500  0.000    4    6    0    1    1   21\n",
       "2   32  0.313  0.857    1    5    2    0    2   16\n",
       "3   34  0.526  0.000    8    5    2    1    4   22\n",
       "4   33  0.462  0.250    5    5    0    0    3   15\n",
       "..  ..    ...    ...  ...  ...  ...  ...  ...  ...\n",
       "62  35  0.500  1.000    2    5    3    0    1   30\n",
       "63  32  0.368  1.000    8    3    2    0    6   25\n",
       "64  32  0.421  0.800    1    4    1    0    2   23\n",
       "65  27  0.500  1.000    3    6    0    0    0   17\n",
       "66  35  0.474  1.000    5    6    1    1    3   23\n",
       "\n",
       "[67 rows x 9 columns]"
      ]
     },
     "execution_count": 1072,
     "metadata": {},
     "output_type": "execute_result"
    }
   ],
   "source": [
    "# Adding more features to predict the target \n",
    "\n",
    "import matplotlib.pyplot as plt\n",
    "import numpy as np\n",
    "from sklearn import datasets, linear_model\n",
    "from sklearn.metrics import mean_squared_error, r2_score\n",
    "\n",
    "# # defining features\n",
    "df_X = df[[\"MP\", \"FG%\", \"AST\", \"TRB\"]].to_numpy()\n",
    "\n",
    "# # target variable\n",
    "df_y = df[['PTS']].to_numpy()\n",
    "\n",
    "# Split the data into training/testing sets\n",
    "df_X_train = df_X[:-20]\n",
    "df_X_test = df_X[-20:]\n",
    "\n",
    "# Split the targets into training/testing sets\n",
    "df_y_train = df_y[:-20]\n",
    "df_y_test = df_y[-20:]\n",
    "\n",
    "# Create linear regression object\n",
    "regr = linear_model.LinearRegression()\n",
    "\n",
    "# Train the model using the training sets\n",
    "regr.fit(df_X_train, df_y_train)\n",
    "\n",
    "# Make predictions using the testing set\n",
    "df_y_pred = regr.predict(df_X_test)\n",
    "\n",
    "# The coefficients\n",
    "print('Coefficients: \\n', regr.coef_)\n",
    "\n",
    "# The mean squared error\n",
    "print('Mean squared error: %.2f'\n",
    "     % mean_squared_error(df_y_test, df_y_pred))\n",
    "\n",
    "# The coefficient of determination: 1 is perfect prediction\n",
    "print('Coefficient of determination: %.2f'\n",
    "     % r2_score(df_y_test, df_y_pred))\n",
    "\n",
    "df"
   ]
  },
  {
   "cell_type": "code",
   "execution_count": 1073,
   "metadata": {},
   "outputs": [
    {
     "name": "stdout",
     "output_type": "stream",
     "text": [
      "Coefficients: \n",
      " [[ 1.06634982 29.75979997  5.34711247 -0.12945041 -0.32582023  0.59169852\n",
      "  -0.55651528  0.06197723]]\n",
      "Mean squared error: 19.61\n",
      "Coefficient of determination: 0.70\n"
     ]
    }
   ],
   "source": [
    "# Adding all the features to predict the target \n",
    "\n",
    "import matplotlib.pyplot as plt\n",
    "import numpy as np\n",
    "from sklearn import datasets, linear_model\n",
    "from sklearn.metrics import mean_squared_error, r2_score\n",
    "\n",
    "# # defining features\n",
    "df_X = df[[\"MP\", \"FG%\", \"FT%\", \"TRB\", \"AST\", \"STL\", \"BLK\", \"TOV\"]].to_numpy()\n",
    "\n",
    "# # target variable\n",
    "df_y = df[['PTS']].to_numpy()\n",
    "\n",
    "# Split the data into training/testing sets\n",
    "df_X_train = df_X[:-20]\n",
    "df_X_test = df_X[-20:]\n",
    "\n",
    "# Split the targets into training/testing sets\n",
    "df_y_train = df_y[:-20]\n",
    "df_y_test = df_y[-20:]\n",
    "\n",
    "# Create linear regression object\n",
    "regr = linear_model.LinearRegression()\n",
    "\n",
    "# Train the model using the training sets\n",
    "regr.fit(df_X_train, df_y_train)\n",
    "\n",
    "# Make predictions using the testing set\n",
    "df_y_pred = regr.predict(df_X_test)\n",
    "\n",
    "# The coefficients\n",
    "print('Coefficients: \\n', regr.coef_)\n",
    "\n",
    "# The mean squared error\n",
    "print('Mean squared error: %.2f'\n",
    "     % mean_squared_error(df_y_test, df_y_pred))\n",
    "\n",
    "# The coefficient of determination: 1 is perfect prediction\n",
    "print('Coefficient of determination: %.2f'\n",
    "     % r2_score(df_y_test, df_y_pred))"
   ]
  },
  {
   "cell_type": "code",
   "execution_count": 1074,
   "metadata": {},
   "outputs": [
    {
     "name": "stdout",
     "output_type": "stream",
     "text": [
      "For LINEAR REGRESSION MODEL \n",
      "Mean absolute error is: 3.348095664477796 \n",
      " Mean squared error is: 19.610656346184864 \n",
      " R-squared score is: 0.6975531100218251 \n",
      " Root mean squared error 4.428392072319801\n"
     ]
    }
   ],
   "source": [
    "# Calculating R-squared score, mean absolute error, and mean squared error for linear regression \n",
    "from sklearn.metrics import mean_absolute_error\n",
    "from sklearn.metrics import mean_squared_error\n",
    "from sklearn.metrics import r2_score\n",
    "\n",
    "rms = mean_squared_error(df_y_test, df_y_pred, squared=False)\n",
    "\n",
    "print(\"For LINEAR REGRESSION MODEL\", '\\n'\n",
    "      \"Mean absolute error is:\", mean_absolute_error(df_y_test, df_y_pred), '\\n',\n",
    "      \"Mean squared error is:\", mean_squared_error(df_y_test, df_y_pred), '\\n',\n",
    "      \"R-squared score is:\", r2_score(df_y_test, df_y_pred), '\\n', \n",
    "      \"Root mean squared error\", rms)\n"
   ]
  },
  {
   "cell_type": "code",
   "execution_count": 1098,
   "metadata": {},
   "outputs": [],
   "source": [
    "# putting the accuracy coefficients in a list to test hypothesis later \n",
    "\n",
    "linear = [r2_score(df_y_test, df_y_pred), mean_absolute_error(df_y_test, df_y_pred),\n",
    "         mean_squared_error(df_y_test, df_y_pred), rms]"
   ]
  },
  {
   "cell_type": "code",
   "execution_count": 1099,
   "metadata": {},
   "outputs": [
    {
     "data": {
      "text/plain": [
       "[0.6975531100218251, 3.348095664477796, 19.610656346184864, 2.00615677353491]"
      ]
     },
     "execution_count": 1099,
     "metadata": {},
     "output_type": "execute_result"
    }
   ],
   "source": [
    "linear"
   ]
  },
  {
   "cell_type": "code",
   "execution_count": 1075,
   "metadata": {},
   "outputs": [
    {
     "name": "stdout",
     "output_type": "stream",
     "text": [
      "Prediction: [24.6911781] vs. Actual: [22]\n",
      "Prediction: [34.35375918] vs. Actual: [37]\n",
      "Prediction: [8.97516526] vs. Actual: [7]\n",
      "Prediction: [25.48789516] vs. Actual: [31]\n",
      "Prediction: [15.21790323] vs. Actual: [13]\n",
      "Prediction: [30.80514093] vs. Actual: [24]\n",
      "Prediction: [19.78571687] vs. Actual: [19]\n",
      "Prediction: [31.7988898] vs. Actual: [30]\n",
      "Prediction: [18.95210111] vs. Actual: [18]\n",
      "Prediction: [23.60792574] vs. Actual: [31]\n",
      "Prediction: [23.82593796] vs. Actual: [30]\n",
      "Prediction: [29.35194921] vs. Actual: [30]\n",
      "Prediction: [23.92682787] vs. Actual: [36]\n",
      "Prediction: [27.05810548] vs. Actual: [31]\n",
      "Prediction: [13.20804783] vs. Actual: [11]\n",
      "Prediction: [30.24733415] vs. Actual: [30]\n",
      "Prediction: [22.71311674] vs. Actual: [25]\n",
      "Prediction: [22.96168883] vs. Actual: [23]\n",
      "Prediction: [19.42419215] vs. Actual: [17]\n",
      "Prediction: [27.14345004] vs. Actual: [23]\n"
     ]
    },
    {
     "data": {
      "text/plain": [
       "<matplotlib.legend.Legend at 0x16839c1c9a0>"
      ]
     },
     "execution_count": 1075,
     "metadata": {},
     "output_type": "execute_result"
    },
    {
     "data": {
      "image/png": "[encoded data removed]",
      "text/plain": [
       "<Figure size 432x288 with 1 Axes>"
      ]
     },
     "metadata": {
      "needs_background": "light"
     },
     "output_type": "display_data"
    }
   ],
   "source": [
    "# Printing predicted and actual values\n",
    "\n",
    "for i in range(len(df_y_test)):\n",
    "    print(\"Prediction:\", df_y_pred[i], \"vs. Actual:\", df_y_test[i])\n",
    "\n",
    "plt.plot(df_y_pred, label=\"Predicted values\")\n",
    "plt.plot(df_y_test, label=\"Actual values\")\n",
    "\n",
    "plt.legend(bbox_to_anchor=(1.05, 1), loc='upper left', borderaxespad=0.)"
   ]
  },
  {
   "cell_type": "markdown",
   "metadata": {},
   "source": [
    "## Statsmodel for Linear Regression"
   ]
  },
  {
   "cell_type": "code",
   "execution_count": 1076,
   "metadata": {},
   "outputs": [],
   "source": [
    "import numpy as np\n",
    "import statsmodels.api as sm\n",
    "import statsmodels.formula.api as smf\n"
   ]
  },
  {
   "cell_type": "code",
   "execution_count": 1077,
   "metadata": {},
   "outputs": [
    {
     "name": "stdout",
     "output_type": "stream",
     "text": [
      "                                 OLS Regression Results                                \n",
      "=======================================================================================\n",
      "Dep. Variable:                      y   R-squared (uncentered):                   0.954\n",
      "Model:                            OLS   Adj. R-squared (uncentered):              0.947\n",
      "Method:                 Least Squares   F-statistic:                              152.1\n",
      "Date:                Sat, 01 May 2021   Prob (F-statistic):                    1.90e-36\n",
      "Time:                        15:56:47   Log-Likelihood:                         -208.37\n",
      "No. Observations:                  67   AIC:                                      432.7\n",
      "Df Residuals:                      59   BIC:                                      450.4\n",
      "Df Model:                           8                                                  \n",
      "Covariance Type:            nonrobust                                                  \n",
      "==============================================================================\n",
      "                 coef    std err          t      P>|t|      [0.025      0.975]\n",
      "------------------------------------------------------------------------------\n",
      "x1             0.4278      0.110      3.880      0.000       0.207       0.648\n",
      "x2            13.4520      5.021      2.679      0.010       3.406      23.498\n",
      "x3             4.7809      1.965      2.433      0.018       0.848       8.714\n",
      "x4             0.0381      0.319      0.119      0.905      -0.600       0.676\n",
      "x5            -0.3697      0.242     -1.526      0.132      -0.854       0.115\n",
      "x6             0.3765      0.486      0.775      0.442      -0.596       1.349\n",
      "x7             2.0027      1.245      1.608      0.113      -0.489       4.495\n",
      "x8             0.4706      0.549      0.858      0.395      -0.628       1.569\n",
      "==============================================================================\n",
      "Omnibus:                        2.019   Durbin-Watson:                   2.154\n",
      "Prob(Omnibus):                  0.364   Jarque-Bera (JB):                1.639\n",
      "Skew:                           0.383   Prob(JB):                        0.441\n",
      "Kurtosis:                       3.018   Cond. No.                         245.\n",
      "==============================================================================\n",
      "\n",
      "Warnings:\n",
      "[1] Standard Errors assume that the covariance matrix of the errors is correctly specified.\n"
     ]
    }
   ],
   "source": [
    "mod = sm.OLS(df_y, df_X) #describe model\n",
    "res = mod.fit() #fit model\n",
    "print(res.summary()) #summarize model"
   ]
  },
  {
   "cell_type": "code",
   "execution_count": 1078,
   "metadata": {},
   "outputs": [
    {
     "data": {
      "text/plain": [
       "array([ 0.42778793, 13.45197032,  4.78092611,  0.038086  , -0.36970692,\n",
       "        0.37647544,  2.00272944,  0.47058268])"
      ]
     },
     "execution_count": 1078,
     "metadata": {},
     "output_type": "execute_result"
    }
   ],
   "source": [
    "res.params"
   ]
  },
  {
   "cell_type": "code",
   "execution_count": 1079,
   "metadata": {},
   "outputs": [
    {
     "name": "stdout",
     "output_type": "stream",
     "text": [
      "R-squared: 0.9537478750861044\n"
     ]
    }
   ],
   "source": [
    "print(\"R-squared:\", res.rsquared)"
   ]
  },
  {
   "cell_type": "markdown",
   "metadata": {},
   "source": [
    "## Lasso Model"
   ]
  },
  {
   "cell_type": "code",
   "execution_count": 1081,
   "metadata": {},
   "outputs": [
    {
     "name": "stdout",
     "output_type": "stream",
     "text": [
      "(67, 9)\n",
      "   MP    FG%    FT%  TRB  AST  STL  BLK  TOV  PTS\n",
      "0  29  0.143  1.000    4    7    0    0    3    7\n",
      "1  35  0.500  0.000    4    6    0    1    1   21\n",
      "2  32  0.313  0.857    1    5    2    0    2   16\n",
      "3  34  0.526  0.000    8    5    2    1    4   22\n",
      "4  33  0.462  0.250    5    5    0    0    3   15\n"
     ]
    }
   ],
   "source": [
    "# load and summarize the housing dataset\n",
    "from pandas import read_csv\n",
    "from matplotlib import pyplot\n",
    "# summarize shape\n",
    "print(df.shape)\n",
    "# summarize first few lines\n",
    "print(df.head())"
   ]
  },
  {
   "cell_type": "code",
   "execution_count": 1082,
   "metadata": {},
   "outputs": [
    {
     "name": "stdout",
     "output_type": "stream",
     "text": [
      "Mean MAE: 5.239 (1.762)\n"
     ]
    }
   ],
   "source": [
    "# evaluate an lasso regression model on the dataset\n",
    "from numpy import mean\n",
    "from numpy import std\n",
    "from numpy import absolute\n",
    "from pandas import read_csv\n",
    "from sklearn.model_selection import cross_val_score\n",
    "from sklearn.model_selection import RepeatedKFold\n",
    "from sklearn.linear_model import Lasso\n",
    "\n",
    "data = df.values\n",
    "X, y = data[:, :-1], data[:, -1]\n",
    "# define model\n",
    "model = Lasso(alpha=1.0)\n",
    "# define model evaluation method\n",
    "cv = RepeatedKFold(n_splits=10, n_repeats=3, random_state=1)\n",
    "# evaluate model\n",
    "scores = cross_val_score(model, X, y, scoring='neg_mean_absolute_error', cv=cv, n_jobs=-1)\n",
    "# force scores to be positive\n",
    "scores = absolute(scores)\n",
    "print('Mean MAE: %.3f (%.3f)' % (mean(scores), std(scores)))\n"
   ]
  },
  {
   "cell_type": "code",
   "execution_count": 1083,
   "metadata": {},
   "outputs": [
    {
     "data": {
      "text/html": [
       "<div>\n",
       "<style scoped>\n",
       "    .dataframe tbody tr th:only-of-type {\n",
       "        vertical-align: middle;\n",
       "    }\n",
       "\n",
       "    .dataframe tbody tr th {\n",
       "        vertical-align: top;\n",
       "    }\n",
       "\n",
       "    .dataframe thead th {\n",
       "        text-align: right;\n",
       "    }\n",
       "</style>\n",
       "<table border=\"1\" class=\"dataframe\">\n",
       "  <thead>\n",
       "    <tr style=\"text-align: right;\">\n",
       "      <th></th>\n",
       "      <th>MP</th>\n",
       "      <th>FG%</th>\n",
       "      <th>FT%</th>\n",
       "      <th>TRB</th>\n",
       "      <th>AST</th>\n",
       "      <th>STL</th>\n",
       "      <th>BLK</th>\n",
       "      <th>TOV</th>\n",
       "      <th>PTS</th>\n",
       "    </tr>\n",
       "  </thead>\n",
       "  <tbody>\n",
       "    <tr>\n",
       "      <th>57</th>\n",
       "      <td>35</td>\n",
       "      <td>0.500</td>\n",
       "      <td>0.667</td>\n",
       "      <td>11</td>\n",
       "      <td>9</td>\n",
       "      <td>1</td>\n",
       "      <td>2</td>\n",
       "      <td>3</td>\n",
       "      <td>30</td>\n",
       "    </tr>\n",
       "    <tr>\n",
       "      <th>58</th>\n",
       "      <td>36</td>\n",
       "      <td>0.435</td>\n",
       "      <td>1.000</td>\n",
       "      <td>5</td>\n",
       "      <td>4</td>\n",
       "      <td>4</td>\n",
       "      <td>1</td>\n",
       "      <td>1</td>\n",
       "      <td>30</td>\n",
       "    </tr>\n",
       "    <tr>\n",
       "      <th>59</th>\n",
       "      <td>35</td>\n",
       "      <td>0.414</td>\n",
       "      <td>0.818</td>\n",
       "      <td>9</td>\n",
       "      <td>4</td>\n",
       "      <td>0</td>\n",
       "      <td>1</td>\n",
       "      <td>3</td>\n",
       "      <td>36</td>\n",
       "    </tr>\n",
       "    <tr>\n",
       "      <th>60</th>\n",
       "      <td>34</td>\n",
       "      <td>0.522</td>\n",
       "      <td>0.750</td>\n",
       "      <td>7</td>\n",
       "      <td>6</td>\n",
       "      <td>2</td>\n",
       "      <td>0</td>\n",
       "      <td>3</td>\n",
       "      <td>31</td>\n",
       "    </tr>\n",
       "    <tr>\n",
       "      <th>61</th>\n",
       "      <td>33</td>\n",
       "      <td>0.294</td>\n",
       "      <td>0.000</td>\n",
       "      <td>2</td>\n",
       "      <td>12</td>\n",
       "      <td>2</td>\n",
       "      <td>1</td>\n",
       "      <td>1</td>\n",
       "      <td>11</td>\n",
       "    </tr>\n",
       "    <tr>\n",
       "      <th>62</th>\n",
       "      <td>35</td>\n",
       "      <td>0.500</td>\n",
       "      <td>1.000</td>\n",
       "      <td>2</td>\n",
       "      <td>5</td>\n",
       "      <td>3</td>\n",
       "      <td>0</td>\n",
       "      <td>1</td>\n",
       "      <td>30</td>\n",
       "    </tr>\n",
       "    <tr>\n",
       "      <th>63</th>\n",
       "      <td>32</td>\n",
       "      <td>0.368</td>\n",
       "      <td>1.000</td>\n",
       "      <td>8</td>\n",
       "      <td>3</td>\n",
       "      <td>2</td>\n",
       "      <td>0</td>\n",
       "      <td>6</td>\n",
       "      <td>25</td>\n",
       "    </tr>\n",
       "    <tr>\n",
       "      <th>64</th>\n",
       "      <td>32</td>\n",
       "      <td>0.421</td>\n",
       "      <td>0.800</td>\n",
       "      <td>1</td>\n",
       "      <td>4</td>\n",
       "      <td>1</td>\n",
       "      <td>0</td>\n",
       "      <td>2</td>\n",
       "      <td>23</td>\n",
       "    </tr>\n",
       "    <tr>\n",
       "      <th>65</th>\n",
       "      <td>27</td>\n",
       "      <td>0.500</td>\n",
       "      <td>1.000</td>\n",
       "      <td>3</td>\n",
       "      <td>6</td>\n",
       "      <td>0</td>\n",
       "      <td>0</td>\n",
       "      <td>0</td>\n",
       "      <td>17</td>\n",
       "    </tr>\n",
       "    <tr>\n",
       "      <th>66</th>\n",
       "      <td>35</td>\n",
       "      <td>0.474</td>\n",
       "      <td>1.000</td>\n",
       "      <td>5</td>\n",
       "      <td>6</td>\n",
       "      <td>1</td>\n",
       "      <td>1</td>\n",
       "      <td>3</td>\n",
       "      <td>23</td>\n",
       "    </tr>\n",
       "  </tbody>\n",
       "</table>\n",
       "</div>"
      ],
      "text/plain": [
       "    MP    FG%    FT%  TRB  AST  STL  BLK  TOV  PTS\n",
       "57  35  0.500  0.667   11    9    1    2    3   30\n",
       "58  36  0.435  1.000    5    4    4    1    1   30\n",
       "59  35  0.414  0.818    9    4    0    1    3   36\n",
       "60  34  0.522  0.750    7    6    2    0    3   31\n",
       "61  33  0.294  0.000    2   12    2    1    1   11\n",
       "62  35  0.500  1.000    2    5    3    0    1   30\n",
       "63  32  0.368  1.000    8    3    2    0    6   25\n",
       "64  32  0.421  0.800    1    4    1    0    2   23\n",
       "65  27  0.500  1.000    3    6    0    0    0   17\n",
       "66  35  0.474  1.000    5    6    1    1    3   23"
      ]
     },
     "execution_count": 1083,
     "metadata": {},
     "output_type": "execute_result"
    }
   ],
   "source": [
    "df.tail(10)"
   ]
  },
  {
   "cell_type": "code",
   "execution_count": 1084,
   "metadata": {},
   "outputs": [
    {
     "data": {
      "text/plain": [
       "array([[22],\n",
       "       [37],\n",
       "       [ 7],\n",
       "       [31],\n",
       "       [13],\n",
       "       [24],\n",
       "       [19],\n",
       "       [30],\n",
       "       [18],\n",
       "       [31],\n",
       "       [30],\n",
       "       [30],\n",
       "       [36],\n",
       "       [31],\n",
       "       [11],\n",
       "       [30],\n",
       "       [25],\n",
       "       [23],\n",
       "       [17],\n",
       "       [23]], dtype=int64)"
      ]
     },
     "execution_count": 1084,
     "metadata": {},
     "output_type": "execute_result"
    }
   ],
   "source": [
    "df_y_test"
   ]
  },
  {
   "cell_type": "code",
   "execution_count": 1085,
   "metadata": {},
   "outputs": [
    {
     "data": {
      "text/plain": [
       "array([31.87013145, 31.15765147, 17.58666169, 26.62196152, 22.41719457,\n",
       "       27.03686108, 20.58077449, 25.98336417, 22.89270206, 27.7817356 ,\n",
       "       26.27664013, 28.30287949, 27.25196078, 25.80646155, 22.37672398,\n",
       "       26.85906608, 25.00732835, 23.70581487, 18.08650102, 26.91322283])"
      ]
     },
     "execution_count": 1085,
     "metadata": {},
     "output_type": "execute_result"
    }
   ],
   "source": [
    "#define model \n",
    "model = Lasso(alpha=1.0)\n",
    "\n",
    "#fit model\n",
    "model.fit(X, y)\n",
    "\n",
    "# define new data \n",
    "yhat = model.predict(df_X_test)\n",
    "yhat"
   ]
  },
  {
   "cell_type": "code",
   "execution_count": 1086,
   "metadata": {},
   "outputs": [
    {
     "name": "stdout",
     "output_type": "stream",
     "text": [
      "Prediction: 31.870131446043654 vs. Actual: [22]\n",
      "Prediction: 31.15765146839823 vs. Actual: [37]\n",
      "Prediction: 17.586661686425295 vs. Actual: [7]\n",
      "Prediction: 26.621961520013524 vs. Actual: [31]\n",
      "Prediction: 22.417194574601037 vs. Actual: [13]\n",
      "Prediction: 27.036861079002374 vs. Actual: [24]\n",
      "Prediction: 20.580774492034912 vs. Actual: [19]\n",
      "Prediction: 25.983364172567885 vs. Actual: [30]\n",
      "Prediction: 22.89270205858573 vs. Actual: [18]\n",
      "Prediction: 27.781735595602324 vs. Actual: [31]\n",
      "Prediction: 26.276640126852737 vs. Actual: [30]\n",
      "Prediction: 28.302879492258274 vs. Actual: [30]\n",
      "Prediction: 27.251960779167188 vs. Actual: [36]\n",
      "Prediction: 25.806461547807597 vs. Actual: [31]\n",
      "Prediction: 22.37672398092955 vs. Actual: [11]\n",
      "Prediction: 26.85906608349511 vs. Actual: [30]\n",
      "Prediction: 25.007328346944835 vs. Actual: [25]\n",
      "Prediction: 23.70581486897917 vs. Actual: [23]\n",
      "Prediction: 18.086501023510138 vs. Actual: [17]\n",
      "Prediction: 26.913222827510257 vs. Actual: [23]\n"
     ]
    },
    {
     "data": {
      "text/plain": [
       "<matplotlib.legend.Legend at 0x1683846d370>"
      ]
     },
     "execution_count": 1086,
     "metadata": {},
     "output_type": "execute_result"
    },
    {
     "data": {
      "image/png": "[encoded data removed]",
      "text/plain": [
       "<Figure size 432x288 with 1 Axes>"
      ]
     },
     "metadata": {
      "needs_background": "light"
     },
     "output_type": "display_data"
    }
   ],
   "source": [
    "for i in range(len(df_y_test)):\n",
    "    print(\"Prediction:\", yhat[i], \"vs. Actual:\", df_y_test[i])\n",
    "\n",
    "plt.plot(yhat, label=\"Predicted values\")\n",
    "plt.plot(df_y_test, label=\"Actual values\")\n",
    "\n",
    "plt.legend(bbox_to_anchor=(1.05, 1), loc='upper left', borderaxespad=0.)"
   ]
  },
  {
   "cell_type": "code",
   "execution_count": 1111,
   "metadata": {},
   "outputs": [
    {
     "name": "stdout",
     "output_type": "stream",
     "text": [
      "For LASSO REGRESSION MODEL \n",
      "Mean absolute error is: 4.821609779920204 \n",
      " Mean squared error is: 34.50816029524346 \n",
      " R-squared score is: 0.4677951836020441 \n",
      " Root mean squared error 5.874364671625644\n"
     ]
    }
   ],
   "source": [
    "lasso_rms = mean_squared_error(df_y_test, yhat, squared=False)\n",
    "\n",
    "print(\"For LASSO REGRESSION MODEL\", '\\n'\n",
    "      \"Mean absolute error is:\", mean_absolute_error(df_y_test, yhat), '\\n',\n",
    "      \"Mean squared error is:\", mean_squared_error(df_y_test, yhat), '\\n',\n",
    "      \"R-squared score is:\", r2_score(df_y_test, yhat), '\\n', \n",
    "      \"Root mean squared error\", lasso_rms)"
   ]
  },
  {
   "cell_type": "code",
   "execution_count": 1112,
   "metadata": {},
   "outputs": [
    {
     "data": {
      "text/plain": [
       "[0.4677951836020441, 4.821609779920204, 34.50816029524346, 5.874364671625644]"
      ]
     },
     "execution_count": 1112,
     "metadata": {},
     "output_type": "execute_result"
    }
   ],
   "source": [
    "# putting the accuracy coefficients in a list to test hypothesis later \n",
    "\n",
    "lasso = [r2_score(df_y_test, yhat), mean_absolute_error(df_y_test, yhat),\n",
    "         mean_squared_error(df_y_test, yhat), lasso_rms]\n",
    "\n",
    "lasso"
   ]
  },
  {
   "cell_type": "markdown",
   "metadata": {},
   "source": [
    "## Ridge Regression Model"
   ]
  },
  {
   "cell_type": "code",
   "execution_count": 1088,
   "metadata": {},
   "outputs": [
    {
     "name": "stdout",
     "output_type": "stream",
     "text": [
      "Mean MAE: 4.062 (1.294)\n"
     ]
    }
   ],
   "source": [
    "# evaluate an ridge regression model on the dataset\n",
    "from numpy import mean\n",
    "from numpy import std\n",
    "from numpy import absolute\n",
    "from pandas import read_csv\n",
    "from sklearn.model_selection import cross_val_score\n",
    "from sklearn.model_selection import RepeatedKFold\n",
    "from sklearn.linear_model import Ridge\n",
    "\n",
    "data = df.values\n",
    "X, y = data[:, :-1], data[:, -1]\n",
    "# define model\n",
    "model = Ridge(alpha=1.0)\n",
    "# define model evaluation method\n",
    "cv = RepeatedKFold(n_splits=10, n_repeats=3, random_state=1)\n",
    "# evaluate model\n",
    "scores = cross_val_score(model, X, y, scoring='neg_mean_absolute_error', cv=cv, n_jobs=-1)\n",
    "# force scores to be positive\n",
    "scores = absolute(scores)\n",
    "print('Mean MAE: %.3f (%.3f)' % (mean(scores), std(scores)))"
   ]
  },
  {
   "cell_type": "code",
   "execution_count": 1089,
   "metadata": {},
   "outputs": [
    {
     "data": {
      "text/plain": [
       "array([27.02066798, 33.46371398, 10.76016641, 25.17582406, 15.47413314,\n",
       "       29.70534379, 19.60762565, 31.58966804, 17.75722833, 26.84028009,\n",
       "       27.34981879, 30.60576095, 27.43946858, 26.67432235, 15.1801921 ,\n",
       "       28.5049261 , 26.0856258 , 22.73196786, 18.31268415, 28.58948853])"
      ]
     },
     "execution_count": 1089,
     "metadata": {},
     "output_type": "execute_result"
    }
   ],
   "source": [
    "data = df.values\n",
    "X, y = data[:, :-1], data[:, -1]\n",
    "#define model \n",
    "model = Ridge(alpha=1.0)\n",
    "\n",
    "#fit model\n",
    "model.fit(X, y)\n",
    "\n",
    "# define new data \n",
    "ridge_yhat = model.predict(df_X_test)\n",
    "ridge_yhat"
   ]
  },
  {
   "cell_type": "code",
   "execution_count": 1090,
   "metadata": {},
   "outputs": [
    {
     "name": "stdout",
     "output_type": "stream",
     "text": [
      "Prediction: 27.020667984922593 vs. Actual: [22]\n",
      "Prediction: 33.46371397655032 vs. Actual: [37]\n",
      "Prediction: 10.76016641090473 vs. Actual: [7]\n",
      "Prediction: 25.17582406184196 vs. Actual: [31]\n",
      "Prediction: 15.47413313779666 vs. Actual: [13]\n",
      "Prediction: 29.705343794734883 vs. Actual: [24]\n",
      "Prediction: 19.607625652770867 vs. Actual: [19]\n",
      "Prediction: 31.589668043777618 vs. Actual: [30]\n",
      "Prediction: 17.75722833464739 vs. Actual: [18]\n",
      "Prediction: 26.840280093901665 vs. Actual: [31]\n",
      "Prediction: 27.349818789280622 vs. Actual: [30]\n",
      "Prediction: 30.605760949408886 vs. Actual: [30]\n",
      "Prediction: 27.4394685796078 vs. Actual: [36]\n",
      "Prediction: 26.674322348433005 vs. Actual: [31]\n",
      "Prediction: 15.180192099862783 vs. Actual: [11]\n",
      "Prediction: 28.504926095667795 vs. Actual: [30]\n",
      "Prediction: 26.08562579979284 vs. Actual: [25]\n",
      "Prediction: 22.731967861089462 vs. Actual: [23]\n",
      "Prediction: 18.31268414905264 vs. Actual: [17]\n",
      "Prediction: 28.58948853451572 vs. Actual: [23]\n"
     ]
    },
    {
     "data": {
      "text/plain": [
       "<matplotlib.legend.Legend at 0x16836db3a60>"
      ]
     },
     "execution_count": 1090,
     "metadata": {},
     "output_type": "execute_result"
    },
    {
     "data": {
      "image/png": "[encoded data removed]",
      "text/plain": [
       "<Figure size 432x288 with 1 Axes>"
      ]
     },
     "metadata": {
      "needs_background": "light"
     },
     "output_type": "display_data"
    }
   ],
   "source": [
    "for i in range(len(df_y_test)):\n",
    "    print(\"Prediction:\", ridge_yhat[i], \"vs. Actual:\", df_y_test[i])\n",
    "\n",
    "plt.plot(ridge_yhat, label=\"Predicted values\")\n",
    "plt.plot(df_y_test, label=\"Actual values\")\n",
    "\n",
    "plt.legend(bbox_to_anchor=(1.05, 1), loc='upper left', borderaxespad=0.)"
   ]
  },
  {
   "cell_type": "code",
   "execution_count": 1105,
   "metadata": {},
   "outputs": [
    {
     "name": "stdout",
     "output_type": "stream",
     "text": [
      "For RIDGE REGRESSION MODEL \n",
      "Mean absolute error is: 3.14969032082601 \n",
      " Mean squared error is: 14.900641845160578 \n",
      " R-squared score is: 0.7701936791307745 \n",
      " Root mean squared error 3.8601349516772827\n"
     ]
    }
   ],
   "source": [
    "ridge_rms = mean_squared_error(df_y_test, ridge_yhat, squared=False)\n",
    "\n",
    "print(\"For RIDGE REGRESSION MODEL\", '\\n'\n",
    "      \"Mean absolute error is:\", mean_absolute_error(df_y_test, ridge_yhat), '\\n',\n",
    "      \"Mean squared error is:\", mean_squared_error(df_y_test, ridge_yhat), '\\n',\n",
    "      \"R-squared score is:\", r2_score(df_y_test, ridge_yhat), '\\n', \n",
    "      \"Root mean squared error\", ridge_rms)"
   ]
  },
  {
   "cell_type": "code",
   "execution_count": 1107,
   "metadata": {},
   "outputs": [
    {
     "data": {
      "text/plain": [
       "[0.7701936791307745, 3.14969032082601, 14.900641845160578, 3.8601349516772827]"
      ]
     },
     "execution_count": 1107,
     "metadata": {},
     "output_type": "execute_result"
    }
   ],
   "source": [
    "# putting the accuracy coefficients in a list to test hypothesis later \n",
    "\n",
    "ridge = [r2_score(df_y_test, ridge_yhat), mean_absolute_error(df_y_test, ridge_yhat),\n",
    "         mean_squared_error(df_y_test, ridge_yhat), ridge_rms]\n",
    "\n",
    "ridge"
   ]
  },
  {
   "cell_type": "markdown",
   "metadata": {},
   "source": [
    "## Random Forest Model"
   ]
  },
  {
   "cell_type": "code",
   "execution_count": 1092,
   "metadata": {},
   "outputs": [
    {
     "name": "stdout",
     "output_type": "stream",
     "text": [
      "0.23.1\n"
     ]
    }
   ],
   "source": [
    "# check scikit-learn version\n",
    "import sklearn\n",
    "print(sklearn.__version__)"
   ]
  },
  {
   "cell_type": "markdown",
   "metadata": {},
   "source": [
    "- The scikit-learn library makes the MAE negative so that it is maximized instead of minimized. This means that larger negative MAE are better and a perfect model has a MAE of 0."
   ]
  },
  {
   "cell_type": "code",
   "execution_count": 1093,
   "metadata": {},
   "outputs": [
    {
     "name": "stdout",
     "output_type": "stream",
     "text": [
      "MAE: 4.425 (1.272)\n"
     ]
    }
   ],
   "source": [
    "# evaluate random forest ensemble for regression\n",
    "from numpy import mean\n",
    "from numpy import std\n",
    "from sklearn.datasets import make_regression\n",
    "from sklearn.model_selection import cross_val_score\n",
    "from sklearn.model_selection import RepeatedKFold\n",
    "from sklearn.ensemble import RandomForestRegressor\n",
    "\n",
    "data = df.values\n",
    "X, y = data[:, :-1], data[:, -1]\n",
    "# define the model\n",
    "model = RandomForestRegressor()\n",
    "# evaluate the model\n",
    "cv = RepeatedKFold(n_splits=10, n_repeats=3, random_state=1)\n",
    "n_scores = cross_val_score(model, X, y, scoring='neg_mean_absolute_error', cv=cv, n_jobs=-1, error_score='raise')\n",
    "scores = absolute(n_scores)\n",
    "# report performance\n",
    "print('MAE: %.3f (%.3f)' % (mean(scores), std(scores)))"
   ]
  },
  {
   "cell_type": "code",
   "execution_count": 1094,
   "metadata": {},
   "outputs": [
    {
     "data": {
      "text/plain": [
       "array([23.94, 36.53, 10.37, 28.68, 14.87, 26.76, 20.21, 29.82, 18.23,\n",
       "       27.5 , 29.34, 29.62, 31.87, 29.21, 12.99, 27.81, 23.72, 22.28,\n",
       "       17.46, 24.7 ])"
      ]
     },
     "execution_count": 1094,
     "metadata": {},
     "output_type": "execute_result"
    }
   ],
   "source": [
    "# Making predictions\n",
    "# fit the model on the whole dataset\n",
    "model.fit(X, y)\n",
    "\n",
    "# putting new row from test dataset\n",
    "random_yhat = model.predict(df_X_test)\n",
    "random_yhat"
   ]
  },
  {
   "cell_type": "code",
   "execution_count": 1095,
   "metadata": {},
   "outputs": [
    {
     "name": "stdout",
     "output_type": "stream",
     "text": [
      "Prediction: 23.94 vs. Actual: [22]\n",
      "Prediction: 36.53 vs. Actual: [37]\n",
      "Prediction: 10.37 vs. Actual: [7]\n",
      "Prediction: 28.68 vs. Actual: [31]\n",
      "Prediction: 14.87 vs. Actual: [13]\n",
      "Prediction: 26.76 vs. Actual: [24]\n",
      "Prediction: 20.21 vs. Actual: [19]\n",
      "Prediction: 29.82 vs. Actual: [30]\n",
      "Prediction: 18.23 vs. Actual: [18]\n",
      "Prediction: 27.5 vs. Actual: [31]\n",
      "Prediction: 29.34 vs. Actual: [30]\n",
      "Prediction: 29.62 vs. Actual: [30]\n",
      "Prediction: 31.87 vs. Actual: [36]\n",
      "Prediction: 29.21 vs. Actual: [31]\n",
      "Prediction: 12.99 vs. Actual: [11]\n",
      "Prediction: 27.81 vs. Actual: [30]\n",
      "Prediction: 23.72 vs. Actual: [25]\n",
      "Prediction: 22.28 vs. Actual: [23]\n",
      "Prediction: 17.46 vs. Actual: [17]\n",
      "Prediction: 24.7 vs. Actual: [23]\n"
     ]
    },
    {
     "data": {
      "text/plain": [
       "<matplotlib.legend.Legend at 0x1683b6df910>"
      ]
     },
     "execution_count": 1095,
     "metadata": {},
     "output_type": "execute_result"
    },
    {
     "data": {
      "image/png": "[encoded data removed]",
      "text/plain": [
       "<Figure size 432x288 with 1 Axes>"
      ]
     },
     "metadata": {
      "needs_background": "light"
     },
     "output_type": "display_data"
    }
   ],
   "source": [
    "for i in range(len(df_y_test)):\n",
    "    print(\"Prediction:\", random_yhat[i], \"vs. Actual:\", df_y_test[i])\n",
    "\n",
    "plt.plot(random_yhat, label=\"Predicted values\")\n",
    "plt.plot(df_y_test, label=\"Actual values\")\n",
    "\n",
    "plt.legend(bbox_to_anchor=(1.05, 1), loc='upper left', borderaxespad=0.)\n"
   ]
  },
  {
   "cell_type": "code",
   "execution_count": 1109,
   "metadata": {},
   "outputs": [
    {
     "name": "stdout",
     "output_type": "stream",
     "text": [
      "For RANDOM FOREST MODEL \n",
      "Mean absolute error is: 1.6575000000000002 \n",
      " Mean squared error is: 4.024665000000001 \n",
      " R-squared score is: 0.9379292874768661 \n",
      " Root mean squared error 2.00615677353491\n"
     ]
    }
   ],
   "source": [
    "random_rms = mean_squared_error(df_y_test, random_yhat, squared=False)\n",
    "\n",
    "print(\"For RANDOM FOREST MODEL\", '\\n'\n",
    "      \"Mean absolute error is:\", mean_absolute_error(df_y_test, random_yhat), '\\n',\n",
    "      \"Mean squared error is:\", mean_squared_error(df_y_test, random_yhat), '\\n',\n",
    "      \"R-squared score is:\", r2_score(df_y_test, random_yhat), '\\n', \n",
    "      \"Root mean squared error\", random_rms)\n"
   ]
  },
  {
   "cell_type": "code",
   "execution_count": 1110,
   "metadata": {},
   "outputs": [
    {
     "data": {
      "text/plain": [
       "[0.9379292874768661, 1.6575000000000002, 4.024665000000001, 2.00615677353491]"
      ]
     },
     "execution_count": 1110,
     "metadata": {},
     "output_type": "execute_result"
    }
   ],
   "source": [
    "# putting the accuracy coefficients in a list to test hypothesis later \n",
    "\n",
    "random_forest = [r2_score(df_y_test, random_yhat), mean_absolute_error(df_y_test, random_yhat),\n",
    "         mean_squared_error(df_y_test, random_yhat), random_rms]\n",
    "\n",
    "random_forest"
   ]
  },
  {
   "cell_type": "markdown",
   "metadata": {},
   "source": [
    "### Kruskal Wallis Test for Hypothesis"
   ]
  },
  {
   "cell_type": "code",
   "execution_count": 1113,
   "metadata": {},
   "outputs": [
    {
     "data": {
      "text/plain": [
       "KruskalResult(statistic=1.3641384388807116, pvalue=0.7139619833664506)"
      ]
     },
     "execution_count": 1113,
     "metadata": {},
     "output_type": "execute_result"
    }
   ],
   "source": [
    "# We are going to compare accuracy coefficients for different models and see if it supports our hypothesis from it's p-value\n",
    "\n",
    "from scipy import stats\n",
    "\n",
    "stats.kruskal(linear, lasso, ridge, random_forest)"
   ]
  },
  {
   "cell_type": "markdown",
   "metadata": {},
   "source": [
    "## Conclusion for Hypothesis\n",
    "\n",
    "Our p-value is 0.71. It is a lot higher than our significance level (0.05), so we will have to reject the null hypothesis (H0) and accept H1. There is a difference in the accuracy of performance among the selected models. "
   ]
  },
  {
   "cell_type": "code",
   "execution_count": null,
   "metadata": {},
   "outputs": [],
   "source": []
  }
 ],
 "metadata": {
  "kernelspec": {
   "display_name": "Python 3",
   "language": "python",
   "name": "python3"
  },
  "language_info": {
   "codemirror_mode": {
    "name": "ipython",
    "version": 3
   },
   "file_extension": ".py",
   "mimetype": "text/x-python",
   "name": "python",
   "nbconvert_exporter": "python",
   "pygments_lexer": "ipython3",
   "version": "3.8.3"
  }
 },
 "nbformat": 4,
 "nbformat_minor": 4
}
